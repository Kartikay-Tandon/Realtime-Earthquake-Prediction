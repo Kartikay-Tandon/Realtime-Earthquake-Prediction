{
 "cells": [
  {
   "cell_type": "code",
   "execution_count": 3,
   "id": "334b43b5",
   "metadata": {},
   "outputs": [],
   "source": [
    "import numpy as np  \n",
    "import pandas as pd  \n",
    "from sklearn import preprocessing;\n",
    "from sklearn import model_selection;\n",
    "from sklearn import linear_model;\n",
    "import os\n",
    "from sqlalchemy import create_engine\n",
    "from sqlalchemy.ext.declarative import declarative_base\n",
    "from sqlalchemy.orm import scoped_session, sessionmaker\n",
    "import xgboost as xgb\n",
    "import datetime as dt\n",
    "import matplotlib.pyplot as plt"
   ]
  },
  {
   "cell_type": "code",
   "execution_count": 4,
   "id": "84f32378",
   "metadata": {},
   "outputs": [],
   "source": [
    "import warnings\n",
    "warnings.simplefilter(action='ignore', category=FutureWarning)"
   ]
  },
  {
   "cell_type": "code",
   "execution_count": 42,
   "id": "adbc6f7b",
   "metadata": {},
   "outputs": [
    {
     "name": "stdout",
     "output_type": "stream",
     "text": [
      "Collecting xgboost\n",
      "  Downloading xgboost-1.7.5-py3-none-win_amd64.whl (70.9 MB)\n",
      "Requirement already satisfied: numpy in c:\\users\\rupin\\anaconda3\\lib\\site-packages (from xgboost) (1.21.5)\n",
      "Requirement already satisfied: scipy in c:\\users\\rupin\\anaconda3\\lib\\site-packages (from xgboost) (1.7.3)\n",
      "Installing collected packages: xgboost\n",
      "Successfully installed xgboost-1.7.5\n"
     ]
    }
   ],
   "source": [
    "!pip3 install xgboost"
   ]
  },
  {
   "cell_type": "markdown",
   "id": "61a8a913",
   "metadata": {},
   "source": [
    "# Get past 30 days earthquake data from earthquake.usgs.gov that is being updated every minute (live).\n",
    "Lets import the dataset downloaded from here :- https://earthquake.usgs.gov/earthquakes/feed/v1.0/summary/all_month.csv"
   ]
  },
  {
   "cell_type": "code",
   "execution_count": 5,
   "id": "1ba80727",
   "metadata": {},
   "outputs": [],
   "source": [
    "df=pd.read_csv('all_month.csv')"
   ]
  },
  {
   "cell_type": "markdown",
   "id": "bcc5e2f9",
   "metadata": {},
   "source": [
    "# Features in the dataset\n",
    "* time ---------------------- Time when the event occurred. Times are reported in milliseconds since the epoch\n",
    "* latitude ------------------- Decimal degrees latitude. Negative values for southern latitudes.\n",
    "* longitude ------------------ Decimal degrees longitude. Negative values for western longitudes.\n",
    "* depth ---------------------- Depth of the event in kilometers.\n",
    "* mag ------------------------ Magnitude of event occured.\n",
    "* magType -------------------- The method or algorithm used to calculate the preferred magnitude\n",
    "* nst ------------------------ The total number of seismic stations used to determine earthquake location.\n",
    "* gap ------------------------ The largest azimuthal gap between azimuthally adjacent stations (in degrees).\n",
    "* dmin ----------------------- Horizontal distance from the epicenter to the nearest station (in degrees).\n",
    "* rms ------------------------ The root-mean-square (RMS) travel time residual, in sec, using all weights.\n",
    "* net ------------------------- The ID of a data source contributor for event occured.\n",
    "* id -------------------------- A unique identifier for the event.\n",
    "* types ----------------------- A comma-separated list of product types associated to this event.\n",
    "* place ----------------------- named geographic region near to the event.\n",
    "* type ------------------------ Type of seismic event.\n",
    "* locationSource -------------- The network that originally authored the reported location of this event.\n",
    "* magSource ------------------- Network that originally authored the reported magnitude for this event.\n",
    "* horizontalError ------------- Uncertainty of reported location of the event in kilometers.\n",
    "* depthError ------------------ The depth error, three principal errors on a vertical line.\n",
    "* magError -------------------- Uncertainty of reported magnitude of the event.\n",
    "* magNst ---------------------- The total number of seismic stations to calculate the magnitude of earthquake.\n",
    "* status ---------------------- Indicates whether the event has been reviewed by a human."
   ]
  },
  {
   "cell_type": "code",
   "execution_count": 7,
   "id": "bd833931",
   "metadata": {},
   "outputs": [
    {
     "data": {
      "text/html": [
       "<div>\n",
       "<style scoped>\n",
       "    .dataframe tbody tr th:only-of-type {\n",
       "        vertical-align: middle;\n",
       "    }\n",
       "\n",
       "    .dataframe tbody tr th {\n",
       "        vertical-align: top;\n",
       "    }\n",
       "\n",
       "    .dataframe thead th {\n",
       "        text-align: right;\n",
       "    }\n",
       "</style>\n",
       "<table border=\"1\" class=\"dataframe\">\n",
       "  <thead>\n",
       "    <tr style=\"text-align: right;\">\n",
       "      <th></th>\n",
       "      <th>time</th>\n",
       "      <th>latitude</th>\n",
       "      <th>longitude</th>\n",
       "      <th>depth</th>\n",
       "      <th>mag</th>\n",
       "      <th>magType</th>\n",
       "      <th>nst</th>\n",
       "      <th>gap</th>\n",
       "      <th>dmin</th>\n",
       "      <th>rms</th>\n",
       "      <th>...</th>\n",
       "      <th>updated</th>\n",
       "      <th>place</th>\n",
       "      <th>type</th>\n",
       "      <th>horizontalError</th>\n",
       "      <th>depthError</th>\n",
       "      <th>magError</th>\n",
       "      <th>magNst</th>\n",
       "      <th>status</th>\n",
       "      <th>locationSource</th>\n",
       "      <th>magSource</th>\n",
       "    </tr>\n",
       "  </thead>\n",
       "  <tbody>\n",
       "    <tr>\n",
       "      <th>0</th>\n",
       "      <td>2023-04-17T09:16:42.127Z</td>\n",
       "      <td>59.659000</td>\n",
       "      <td>-153.056700</td>\n",
       "      <td>109.20</td>\n",
       "      <td>2.10</td>\n",
       "      <td>ml</td>\n",
       "      <td>NaN</td>\n",
       "      <td>NaN</td>\n",
       "      <td>NaN</td>\n",
       "      <td>0.41</td>\n",
       "      <td>...</td>\n",
       "      <td>2023-04-17T09:18:44.908Z</td>\n",
       "      <td>60 km ESE of Pedro Bay, Alaska</td>\n",
       "      <td>earthquake</td>\n",
       "      <td>NaN</td>\n",
       "      <td>0.40</td>\n",
       "      <td>NaN</td>\n",
       "      <td>NaN</td>\n",
       "      <td>automatic</td>\n",
       "      <td>ak</td>\n",
       "      <td>ak</td>\n",
       "    </tr>\n",
       "    <tr>\n",
       "      <th>1</th>\n",
       "      <td>2023-04-17T09:13:53.100Z</td>\n",
       "      <td>40.292168</td>\n",
       "      <td>-124.534836</td>\n",
       "      <td>10.02</td>\n",
       "      <td>2.56</td>\n",
       "      <td>md</td>\n",
       "      <td>11.0</td>\n",
       "      <td>281.0</td>\n",
       "      <td>0.19390</td>\n",
       "      <td>0.12</td>\n",
       "      <td>...</td>\n",
       "      <td>2023-04-17T09:29:16.965Z</td>\n",
       "      <td>22km W of Petrolia, CA</td>\n",
       "      <td>earthquake</td>\n",
       "      <td>2.60</td>\n",
       "      <td>1.12</td>\n",
       "      <td>0.050</td>\n",
       "      <td>5.0</td>\n",
       "      <td>automatic</td>\n",
       "      <td>nc</td>\n",
       "      <td>nc</td>\n",
       "    </tr>\n",
       "    <tr>\n",
       "      <th>2</th>\n",
       "      <td>2023-04-17T09:11:18.520Z</td>\n",
       "      <td>38.804001</td>\n",
       "      <td>-122.767334</td>\n",
       "      <td>-0.24</td>\n",
       "      <td>1.09</td>\n",
       "      <td>md</td>\n",
       "      <td>16.0</td>\n",
       "      <td>85.0</td>\n",
       "      <td>0.01394</td>\n",
       "      <td>0.05</td>\n",
       "      <td>...</td>\n",
       "      <td>2023-04-17T09:29:16.845Z</td>\n",
       "      <td>3km NNW of The Geysers, CA</td>\n",
       "      <td>earthquake</td>\n",
       "      <td>0.25</td>\n",
       "      <td>0.68</td>\n",
       "      <td>0.180</td>\n",
       "      <td>19.0</td>\n",
       "      <td>automatic</td>\n",
       "      <td>nc</td>\n",
       "      <td>nc</td>\n",
       "    </tr>\n",
       "    <tr>\n",
       "      <th>3</th>\n",
       "      <td>2023-04-17T09:04:24.684Z</td>\n",
       "      <td>62.921300</td>\n",
       "      <td>-151.296400</td>\n",
       "      <td>111.10</td>\n",
       "      <td>1.70</td>\n",
       "      <td>ml</td>\n",
       "      <td>NaN</td>\n",
       "      <td>NaN</td>\n",
       "      <td>NaN</td>\n",
       "      <td>0.35</td>\n",
       "      <td>...</td>\n",
       "      <td>2023-04-17T09:06:26.645Z</td>\n",
       "      <td>54 km NNW of Petersville, Alaska</td>\n",
       "      <td>earthquake</td>\n",
       "      <td>NaN</td>\n",
       "      <td>1.30</td>\n",
       "      <td>NaN</td>\n",
       "      <td>NaN</td>\n",
       "      <td>automatic</td>\n",
       "      <td>ak</td>\n",
       "      <td>ak</td>\n",
       "    </tr>\n",
       "    <tr>\n",
       "      <th>4</th>\n",
       "      <td>2023-04-17T09:04:22.730Z</td>\n",
       "      <td>34.025500</td>\n",
       "      <td>-117.007667</td>\n",
       "      <td>14.15</td>\n",
       "      <td>1.34</td>\n",
       "      <td>ml</td>\n",
       "      <td>47.0</td>\n",
       "      <td>43.0</td>\n",
       "      <td>0.09033</td>\n",
       "      <td>0.20</td>\n",
       "      <td>...</td>\n",
       "      <td>2023-04-17T09:07:59.986Z</td>\n",
       "      <td>3km ESE of Yucaipa, CA</td>\n",
       "      <td>earthquake</td>\n",
       "      <td>0.22</td>\n",
       "      <td>0.47</td>\n",
       "      <td>0.192</td>\n",
       "      <td>29.0</td>\n",
       "      <td>automatic</td>\n",
       "      <td>ci</td>\n",
       "      <td>ci</td>\n",
       "    </tr>\n",
       "  </tbody>\n",
       "</table>\n",
       "<p>5 rows × 22 columns</p>\n",
       "</div>"
      ],
      "text/plain": [
       "                       time   latitude   longitude   depth   mag magType  \\\n",
       "0  2023-04-17T09:16:42.127Z  59.659000 -153.056700  109.20  2.10      ml   \n",
       "1  2023-04-17T09:13:53.100Z  40.292168 -124.534836   10.02  2.56      md   \n",
       "2  2023-04-17T09:11:18.520Z  38.804001 -122.767334   -0.24  1.09      md   \n",
       "3  2023-04-17T09:04:24.684Z  62.921300 -151.296400  111.10  1.70      ml   \n",
       "4  2023-04-17T09:04:22.730Z  34.025500 -117.007667   14.15  1.34      ml   \n",
       "\n",
       "    nst    gap     dmin   rms  ...                   updated  \\\n",
       "0   NaN    NaN      NaN  0.41  ...  2023-04-17T09:18:44.908Z   \n",
       "1  11.0  281.0  0.19390  0.12  ...  2023-04-17T09:29:16.965Z   \n",
       "2  16.0   85.0  0.01394  0.05  ...  2023-04-17T09:29:16.845Z   \n",
       "3   NaN    NaN      NaN  0.35  ...  2023-04-17T09:06:26.645Z   \n",
       "4  47.0   43.0  0.09033  0.20  ...  2023-04-17T09:07:59.986Z   \n",
       "\n",
       "                              place        type horizontalError depthError  \\\n",
       "0    60 km ESE of Pedro Bay, Alaska  earthquake             NaN       0.40   \n",
       "1            22km W of Petrolia, CA  earthquake            2.60       1.12   \n",
       "2        3km NNW of The Geysers, CA  earthquake            0.25       0.68   \n",
       "3  54 km NNW of Petersville, Alaska  earthquake             NaN       1.30   \n",
       "4            3km ESE of Yucaipa, CA  earthquake            0.22       0.47   \n",
       "\n",
       "   magError  magNst     status  locationSource magSource  \n",
       "0       NaN     NaN  automatic              ak        ak  \n",
       "1     0.050     5.0  automatic              nc        nc  \n",
       "2     0.180    19.0  automatic              nc        nc  \n",
       "3       NaN     NaN  automatic              ak        ak  \n",
       "4     0.192    29.0  automatic              ci        ci  \n",
       "\n",
       "[5 rows x 22 columns]"
      ]
     },
     "execution_count": 7,
     "metadata": {},
     "output_type": "execute_result"
    }
   ],
   "source": [
    "df.head()"
   ]
  },
  {
   "cell_type": "code",
   "execution_count": 8,
   "id": "2c0c3d68",
   "metadata": {},
   "outputs": [
    {
     "data": {
      "text/plain": [
       "(11623, 22)"
      ]
     },
     "execution_count": 8,
     "metadata": {},
     "output_type": "execute_result"
    }
   ],
   "source": [
    "df.shape"
   ]
  },
  {
   "cell_type": "code",
   "execution_count": 9,
   "id": "033096c2",
   "metadata": {},
   "outputs": [
    {
     "data": {
      "text/html": [
       "<div>\n",
       "<style scoped>\n",
       "    .dataframe tbody tr th:only-of-type {\n",
       "        vertical-align: middle;\n",
       "    }\n",
       "\n",
       "    .dataframe tbody tr th {\n",
       "        vertical-align: top;\n",
       "    }\n",
       "\n",
       "    .dataframe thead th {\n",
       "        text-align: right;\n",
       "    }\n",
       "</style>\n",
       "<table border=\"1\" class=\"dataframe\">\n",
       "  <thead>\n",
       "    <tr style=\"text-align: right;\">\n",
       "      <th></th>\n",
       "      <th>latitude</th>\n",
       "      <th>longitude</th>\n",
       "      <th>depth</th>\n",
       "      <th>mag</th>\n",
       "      <th>nst</th>\n",
       "      <th>gap</th>\n",
       "      <th>dmin</th>\n",
       "      <th>rms</th>\n",
       "      <th>horizontalError</th>\n",
       "      <th>depthError</th>\n",
       "      <th>magError</th>\n",
       "      <th>magNst</th>\n",
       "    </tr>\n",
       "  </thead>\n",
       "  <tbody>\n",
       "    <tr>\n",
       "      <th>count</th>\n",
       "      <td>11623.000000</td>\n",
       "      <td>11623.000000</td>\n",
       "      <td>11623.000000</td>\n",
       "      <td>11623.000000</td>\n",
       "      <td>8298.000000</td>\n",
       "      <td>8298.000000</td>\n",
       "      <td>5930.000000</td>\n",
       "      <td>11623.000000</td>\n",
       "      <td>7724.000000</td>\n",
       "      <td>11623.000000</td>\n",
       "      <td>8270.000000</td>\n",
       "      <td>8295.000000</td>\n",
       "    </tr>\n",
       "    <tr>\n",
       "      <th>mean</th>\n",
       "      <td>43.585715</td>\n",
       "      <td>-125.315001</td>\n",
       "      <td>22.481352</td>\n",
       "      <td>1.461778</td>\n",
       "      <td>20.686671</td>\n",
       "      <td>126.020494</td>\n",
       "      <td>0.492216</td>\n",
       "      <td>0.290185</td>\n",
       "      <td>1.371146</td>\n",
       "      <td>1.735627</td>\n",
       "      <td>0.235722</td>\n",
       "      <td>15.859795</td>\n",
       "    </tr>\n",
       "    <tr>\n",
       "      <th>std</th>\n",
       "      <td>17.654440</td>\n",
       "      <td>59.833629</td>\n",
       "      <td>49.915174</td>\n",
       "      <td>1.127382</td>\n",
       "      <td>21.426840</td>\n",
       "      <td>65.637936</td>\n",
       "      <td>1.825506</td>\n",
       "      <td>0.270365</td>\n",
       "      <td>2.597778</td>\n",
       "      <td>5.216584</td>\n",
       "      <td>0.309579</td>\n",
       "      <td>28.314644</td>\n",
       "    </tr>\n",
       "    <tr>\n",
       "      <th>min</th>\n",
       "      <td>-59.561000</td>\n",
       "      <td>-179.984500</td>\n",
       "      <td>-3.440000</td>\n",
       "      <td>-1.320000</td>\n",
       "      <td>0.000000</td>\n",
       "      <td>12.000000</td>\n",
       "      <td>0.000000</td>\n",
       "      <td>0.000000</td>\n",
       "      <td>0.060000</td>\n",
       "      <td>0.000000</td>\n",
       "      <td>0.000000</td>\n",
       "      <td>0.000000</td>\n",
       "    </tr>\n",
       "    <tr>\n",
       "      <th>25%</th>\n",
       "      <td>35.787750</td>\n",
       "      <td>-155.264500</td>\n",
       "      <td>2.400000</td>\n",
       "      <td>0.790000</td>\n",
       "      <td>7.000000</td>\n",
       "      <td>72.000000</td>\n",
       "      <td>0.013520</td>\n",
       "      <td>0.090000</td>\n",
       "      <td>0.270000</td>\n",
       "      <td>0.400000</td>\n",
       "      <td>0.120000</td>\n",
       "      <td>5.000000</td>\n",
       "    </tr>\n",
       "    <tr>\n",
       "      <th>50%</th>\n",
       "      <td>44.494000</td>\n",
       "      <td>-140.580700</td>\n",
       "      <td>7.030000</td>\n",
       "      <td>1.280000</td>\n",
       "      <td>14.000000</td>\n",
       "      <td>112.000000</td>\n",
       "      <td>0.050150</td>\n",
       "      <td>0.177900</td>\n",
       "      <td>0.450000</td>\n",
       "      <td>0.700000</td>\n",
       "      <td>0.179286</td>\n",
       "      <td>9.000000</td>\n",
       "    </tr>\n",
       "    <tr>\n",
       "      <th>75%</th>\n",
       "      <td>58.221150</td>\n",
       "      <td>-117.584750</td>\n",
       "      <td>16.700000</td>\n",
       "      <td>1.900000</td>\n",
       "      <td>27.000000</td>\n",
       "      <td>174.000000</td>\n",
       "      <td>0.131125</td>\n",
       "      <td>0.480000</td>\n",
       "      <td>0.820000</td>\n",
       "      <td>1.300000</td>\n",
       "      <td>0.250000</td>\n",
       "      <td>17.000000</td>\n",
       "    </tr>\n",
       "    <tr>\n",
       "      <th>max</th>\n",
       "      <td>86.599400</td>\n",
       "      <td>179.994100</td>\n",
       "      <td>648.297000</td>\n",
       "      <td>7.000000</td>\n",
       "      <td>310.000000</td>\n",
       "      <td>360.000000</td>\n",
       "      <td>41.439000</td>\n",
       "      <td>2.260000</td>\n",
       "      <td>19.180000</td>\n",
       "      <td>365.300000</td>\n",
       "      <td>5.530000</td>\n",
       "      <td>814.000000</td>\n",
       "    </tr>\n",
       "  </tbody>\n",
       "</table>\n",
       "</div>"
      ],
      "text/plain": [
       "           latitude     longitude         depth           mag          nst  \\\n",
       "count  11623.000000  11623.000000  11623.000000  11623.000000  8298.000000   \n",
       "mean      43.585715   -125.315001     22.481352      1.461778    20.686671   \n",
       "std       17.654440     59.833629     49.915174      1.127382    21.426840   \n",
       "min      -59.561000   -179.984500     -3.440000     -1.320000     0.000000   \n",
       "25%       35.787750   -155.264500      2.400000      0.790000     7.000000   \n",
       "50%       44.494000   -140.580700      7.030000      1.280000    14.000000   \n",
       "75%       58.221150   -117.584750     16.700000      1.900000    27.000000   \n",
       "max       86.599400    179.994100    648.297000      7.000000   310.000000   \n",
       "\n",
       "               gap         dmin           rms  horizontalError    depthError  \\\n",
       "count  8298.000000  5930.000000  11623.000000      7724.000000  11623.000000   \n",
       "mean    126.020494     0.492216      0.290185         1.371146      1.735627   \n",
       "std      65.637936     1.825506      0.270365         2.597778      5.216584   \n",
       "min      12.000000     0.000000      0.000000         0.060000      0.000000   \n",
       "25%      72.000000     0.013520      0.090000         0.270000      0.400000   \n",
       "50%     112.000000     0.050150      0.177900         0.450000      0.700000   \n",
       "75%     174.000000     0.131125      0.480000         0.820000      1.300000   \n",
       "max     360.000000    41.439000      2.260000        19.180000    365.300000   \n",
       "\n",
       "          magError       magNst  \n",
       "count  8270.000000  8295.000000  \n",
       "mean      0.235722    15.859795  \n",
       "std       0.309579    28.314644  \n",
       "min       0.000000     0.000000  \n",
       "25%       0.120000     5.000000  \n",
       "50%       0.179286     9.000000  \n",
       "75%       0.250000    17.000000  \n",
       "max       5.530000   814.000000  "
      ]
     },
     "execution_count": 9,
     "metadata": {},
     "output_type": "execute_result"
    }
   ],
   "source": [
    "df.describe()"
   ]
  },
  {
   "cell_type": "code",
   "execution_count": 10,
   "id": "18c226ad",
   "metadata": {},
   "outputs": [
    {
     "name": "stdout",
     "output_type": "stream",
     "text": [
      "<class 'pandas.core.frame.DataFrame'>\n",
      "RangeIndex: 11623 entries, 0 to 11622\n",
      "Data columns (total 22 columns):\n",
      " #   Column           Non-Null Count  Dtype  \n",
      "---  ------           --------------  -----  \n",
      " 0   time             11623 non-null  object \n",
      " 1   latitude         11623 non-null  float64\n",
      " 2   longitude        11623 non-null  float64\n",
      " 3   depth            11623 non-null  float64\n",
      " 4   mag              11623 non-null  float64\n",
      " 5   magType          11623 non-null  object \n",
      " 6   nst              8298 non-null   float64\n",
      " 7   gap              8298 non-null   float64\n",
      " 8   dmin             5930 non-null   float64\n",
      " 9   rms              11623 non-null  float64\n",
      " 10  net              11623 non-null  object \n",
      " 11  id               11623 non-null  object \n",
      " 12  updated          11623 non-null  object \n",
      " 13  place            11623 non-null  object \n",
      " 14  type             11623 non-null  object \n",
      " 15  horizontalError  7724 non-null   float64\n",
      " 16  depthError       11623 non-null  float64\n",
      " 17  magError         8270 non-null   float64\n",
      " 18  magNst           8295 non-null   float64\n",
      " 19  status           11623 non-null  object \n",
      " 20  locationSource   11623 non-null  object \n",
      " 21  magSource        11623 non-null  object \n",
      "dtypes: float64(12), object(10)\n",
      "memory usage: 2.0+ MB\n"
     ]
    }
   ],
   "source": [
    "df.info()"
   ]
  },
  {
   "cell_type": "markdown",
   "id": "65ba2ce8",
   "metadata": {},
   "source": [
    "We can see lots of null values of certain features, but as part of data wrangling and feature engineering we consider only certain features in final dataframe, hence I choose simply drop or ignore the null values"
   ]
  },
  {
   "cell_type": "code",
   "execution_count": 11,
   "id": "96f86152",
   "metadata": {},
   "outputs": [
    {
     "data": {
      "text/plain": [
       "time                  0\n",
       "latitude              0\n",
       "longitude             0\n",
       "depth                 0\n",
       "mag                   0\n",
       "magType               0\n",
       "nst                3325\n",
       "gap                3325\n",
       "dmin               5693\n",
       "rms                   0\n",
       "net                   0\n",
       "id                    0\n",
       "updated               0\n",
       "place                 0\n",
       "type                  0\n",
       "horizontalError    3899\n",
       "depthError            0\n",
       "magError           3353\n",
       "magNst             3328\n",
       "status                0\n",
       "locationSource        0\n",
       "magSource             0\n",
       "dtype: int64"
      ]
     },
     "execution_count": 11,
     "metadata": {},
     "output_type": "execute_result"
    }
   ],
   "source": [
    "df.isnull().sum()"
   ]
  },
  {
   "cell_type": "markdown",
   "id": "5e89e654",
   "metadata": {},
   "source": [
    "Visualize latitude and longitude feature from 'df' dataframe to see where the points fall from the feature set"
   ]
  },
  {
   "cell_type": "code",
   "execution_count": 12,
   "id": "88f630e0",
   "metadata": {},
   "outputs": [
    {
     "data": {
      "image/png": "[encoded data removed]",
      "text/plain": [
       "<Figure size 1080x576 with 1 Axes>"
      ]
     },
     "metadata": {
      "needs_background": "light"
     },
     "output_type": "display_data"
    }
   ],
   "source": [
    "rounding_factor = 10\n",
    "fig, ax = plt.subplots(figsize=(15,8))\n",
    "\n",
    "# latitude and longitude of earthquake site of top 10500 samples.\n",
    "plt.plot(np.round(df['longitude'].head(10500),rounding_factor), \n",
    "         np.round(df['latitude'].head(10500),rounding_factor),\n",
    "         linestyle='none', marker='.')\n",
    "\n",
    "plt.suptitle('Earthquakes from ' + str(np.min(df['time']))[:20] + ' to ' + str(np.max(df['time']))[:20])\n",
    "plt.xlabel('Longitude')\n",
    "plt.ylabel('Latitude')\n",
    "plt.show()"
   ]
  },
  {
   "cell_type": "markdown",
   "id": "0faef855",
   "metadata": {},
   "source": [
    "# Clean up the data by first extracting only date from 'time' column by considering string[ : 10]. hence we can get desired date"
   ]
  },
  {
   "cell_type": "code",
   "execution_count": 13,
   "id": "4897f301",
   "metadata": {},
   "outputs": [
    {
     "data": {
      "text/html": [
       "<div>\n",
       "<style scoped>\n",
       "    .dataframe tbody tr th:only-of-type {\n",
       "        vertical-align: middle;\n",
       "    }\n",
       "\n",
       "    .dataframe tbody tr th {\n",
       "        vertical-align: top;\n",
       "    }\n",
       "\n",
       "    .dataframe thead th {\n",
       "        text-align: right;\n",
       "    }\n",
       "</style>\n",
       "<table border=\"1\" class=\"dataframe\">\n",
       "  <thead>\n",
       "    <tr style=\"text-align: right;\">\n",
       "      <th></th>\n",
       "      <th>time</th>\n",
       "      <th>latitude</th>\n",
       "      <th>longitude</th>\n",
       "      <th>depth</th>\n",
       "      <th>mag</th>\n",
       "      <th>magType</th>\n",
       "      <th>nst</th>\n",
       "      <th>gap</th>\n",
       "      <th>dmin</th>\n",
       "      <th>rms</th>\n",
       "      <th>...</th>\n",
       "      <th>place</th>\n",
       "      <th>type</th>\n",
       "      <th>horizontalError</th>\n",
       "      <th>depthError</th>\n",
       "      <th>magError</th>\n",
       "      <th>magNst</th>\n",
       "      <th>status</th>\n",
       "      <th>locationSource</th>\n",
       "      <th>magSource</th>\n",
       "      <th>date</th>\n",
       "    </tr>\n",
       "  </thead>\n",
       "  <tbody>\n",
       "    <tr>\n",
       "      <th>11622</th>\n",
       "      <td>2023-03-18T09:35:46.450Z</td>\n",
       "      <td>19.245500</td>\n",
       "      <td>-155.126333</td>\n",
       "      <td>38.66</td>\n",
       "      <td>1.74</td>\n",
       "      <td>md</td>\n",
       "      <td>37.0</td>\n",
       "      <td>200.0</td>\n",
       "      <td>NaN</td>\n",
       "      <td>0.13</td>\n",
       "      <td>...</td>\n",
       "      <td>24 km S of Fern Forest, Hawaii</td>\n",
       "      <td>earthquake</td>\n",
       "      <td>0.83</td>\n",
       "      <td>0.480</td>\n",
       "      <td>0.168011</td>\n",
       "      <td>17.0</td>\n",
       "      <td>reviewed</td>\n",
       "      <td>hv</td>\n",
       "      <td>hv</td>\n",
       "      <td>2023-03-18</td>\n",
       "    </tr>\n",
       "    <tr>\n",
       "      <th>11621</th>\n",
       "      <td>2023-03-18T09:42:20.490Z</td>\n",
       "      <td>34.257667</td>\n",
       "      <td>-117.050333</td>\n",
       "      <td>3.10</td>\n",
       "      <td>1.20</td>\n",
       "      <td>ml</td>\n",
       "      <td>56.0</td>\n",
       "      <td>54.0</td>\n",
       "      <td>0.1074</td>\n",
       "      <td>0.16</td>\n",
       "      <td>...</td>\n",
       "      <td>8km NE of Running Springs, CA</td>\n",
       "      <td>earthquake</td>\n",
       "      <td>0.14</td>\n",
       "      <td>0.510</td>\n",
       "      <td>0.118000</td>\n",
       "      <td>28.0</td>\n",
       "      <td>reviewed</td>\n",
       "      <td>ci</td>\n",
       "      <td>ci</td>\n",
       "      <td>2023-03-18</td>\n",
       "    </tr>\n",
       "    <tr>\n",
       "      <th>11620</th>\n",
       "      <td>2023-03-18T09:47:10.030Z</td>\n",
       "      <td>51.870167</td>\n",
       "      <td>-177.987833</td>\n",
       "      <td>6.08</td>\n",
       "      <td>1.17</td>\n",
       "      <td>ml</td>\n",
       "      <td>4.0</td>\n",
       "      <td>141.0</td>\n",
       "      <td>NaN</td>\n",
       "      <td>0.12</td>\n",
       "      <td>...</td>\n",
       "      <td>93 km W of Adak, Alaska</td>\n",
       "      <td>earthquake</td>\n",
       "      <td>0.49</td>\n",
       "      <td>1.060</td>\n",
       "      <td>0.125191</td>\n",
       "      <td>4.0</td>\n",
       "      <td>reviewed</td>\n",
       "      <td>av</td>\n",
       "      <td>av</td>\n",
       "      <td>2023-03-18</td>\n",
       "    </tr>\n",
       "    <tr>\n",
       "      <th>11619</th>\n",
       "      <td>2023-03-18T10:03:24.386Z</td>\n",
       "      <td>64.479800</td>\n",
       "      <td>-149.373600</td>\n",
       "      <td>15.30</td>\n",
       "      <td>1.30</td>\n",
       "      <td>ml</td>\n",
       "      <td>NaN</td>\n",
       "      <td>NaN</td>\n",
       "      <td>NaN</td>\n",
       "      <td>1.07</td>\n",
       "      <td>...</td>\n",
       "      <td>16 km SW of Nenana, Alaska</td>\n",
       "      <td>earthquake</td>\n",
       "      <td>NaN</td>\n",
       "      <td>0.200</td>\n",
       "      <td>NaN</td>\n",
       "      <td>NaN</td>\n",
       "      <td>reviewed</td>\n",
       "      <td>ak</td>\n",
       "      <td>ak</td>\n",
       "      <td>2023-03-18</td>\n",
       "    </tr>\n",
       "    <tr>\n",
       "      <th>11618</th>\n",
       "      <td>2023-03-18T10:05:20.416Z</td>\n",
       "      <td>-7.071200</td>\n",
       "      <td>155.601000</td>\n",
       "      <td>10.00</td>\n",
       "      <td>4.70</td>\n",
       "      <td>mb</td>\n",
       "      <td>50.0</td>\n",
       "      <td>70.0</td>\n",
       "      <td>4.4590</td>\n",
       "      <td>0.66</td>\n",
       "      <td>...</td>\n",
       "      <td>84 km S of Panguna, Papua New Guinea</td>\n",
       "      <td>earthquake</td>\n",
       "      <td>8.84</td>\n",
       "      <td>1.883</td>\n",
       "      <td>0.081000</td>\n",
       "      <td>53.0</td>\n",
       "      <td>reviewed</td>\n",
       "      <td>us</td>\n",
       "      <td>us</td>\n",
       "      <td>2023-03-18</td>\n",
       "    </tr>\n",
       "  </tbody>\n",
       "</table>\n",
       "<p>5 rows × 23 columns</p>\n",
       "</div>"
      ],
      "text/plain": [
       "                           time   latitude   longitude  depth   mag magType  \\\n",
       "11622  2023-03-18T09:35:46.450Z  19.245500 -155.126333  38.66  1.74      md   \n",
       "11621  2023-03-18T09:42:20.490Z  34.257667 -117.050333   3.10  1.20      ml   \n",
       "11620  2023-03-18T09:47:10.030Z  51.870167 -177.987833   6.08  1.17      ml   \n",
       "11619  2023-03-18T10:03:24.386Z  64.479800 -149.373600  15.30  1.30      ml   \n",
       "11618  2023-03-18T10:05:20.416Z  -7.071200  155.601000  10.00  4.70      mb   \n",
       "\n",
       "        nst    gap    dmin   rms  ...                                 place  \\\n",
       "11622  37.0  200.0     NaN  0.13  ...        24 km S of Fern Forest, Hawaii   \n",
       "11621  56.0   54.0  0.1074  0.16  ...         8km NE of Running Springs, CA   \n",
       "11620   4.0  141.0     NaN  0.12  ...               93 km W of Adak, Alaska   \n",
       "11619   NaN    NaN     NaN  1.07  ...            16 km SW of Nenana, Alaska   \n",
       "11618  50.0   70.0  4.4590  0.66  ...  84 km S of Panguna, Papua New Guinea   \n",
       "\n",
       "             type horizontalError depthError  magError  magNst    status  \\\n",
       "11622  earthquake            0.83      0.480  0.168011    17.0  reviewed   \n",
       "11621  earthquake            0.14      0.510  0.118000    28.0  reviewed   \n",
       "11620  earthquake            0.49      1.060  0.125191     4.0  reviewed   \n",
       "11619  earthquake             NaN      0.200       NaN     NaN  reviewed   \n",
       "11618  earthquake            8.84      1.883  0.081000    53.0  reviewed   \n",
       "\n",
       "       locationSource  magSource        date  \n",
       "11622              hv         hv  2023-03-18  \n",
       "11621              ci         ci  2023-03-18  \n",
       "11620              av         av  2023-03-18  \n",
       "11619              ak         ak  2023-03-18  \n",
       "11618              us         us  2023-03-18  \n",
       "\n",
       "[5 rows x 23 columns]"
      ]
     },
     "execution_count": 13,
     "metadata": {},
     "output_type": "execute_result"
    }
   ],
   "source": [
    "df = df.sort_values('time', ascending=True)\n",
    "\n",
    "#Date extraction\n",
    "df['date'] = df['time'].str[0:10]\n",
    "df.head()"
   ]
  },
  {
   "cell_type": "markdown",
   "id": "4ad4effd",
   "metadata": {},
   "source": [
    "Data cleaning for seperating 'place' column. hence only consider city by seperating string by ', '"
   ]
  },
  {
   "cell_type": "code",
   "execution_count": 15,
   "id": "040fac76",
   "metadata": {},
   "outputs": [],
   "source": [
    "# only keep the columns needed\n",
    "df = df[['date', 'latitude', 'longitude', 'depth', 'mag', 'place']]\n",
    "# df['date'] = df['time'].str.split(', ', expand=True) \n",
    "newdf = df['place'].str.split(', ', expand=True) "
   ]
  },
  {
   "cell_type": "code",
   "execution_count": 16,
   "id": "d2cc6db9",
   "metadata": {},
   "outputs": [
    {
     "data": {
      "text/html": [
       "<div>\n",
       "<style scoped>\n",
       "    .dataframe tbody tr th:only-of-type {\n",
       "        vertical-align: middle;\n",
       "    }\n",
       "\n",
       "    .dataframe tbody tr th {\n",
       "        vertical-align: top;\n",
       "    }\n",
       "\n",
       "    .dataframe thead th {\n",
       "        text-align: right;\n",
       "    }\n",
       "</style>\n",
       "<table border=\"1\" class=\"dataframe\">\n",
       "  <thead>\n",
       "    <tr style=\"text-align: right;\">\n",
       "      <th></th>\n",
       "      <th>0</th>\n",
       "      <th>1</th>\n",
       "      <th>2</th>\n",
       "    </tr>\n",
       "  </thead>\n",
       "  <tbody>\n",
       "    <tr>\n",
       "      <th>11622</th>\n",
       "      <td>24 km S of Fern Forest</td>\n",
       "      <td>Hawaii</td>\n",
       "      <td>None</td>\n",
       "    </tr>\n",
       "    <tr>\n",
       "      <th>11621</th>\n",
       "      <td>8km NE of Running Springs</td>\n",
       "      <td>CA</td>\n",
       "      <td>None</td>\n",
       "    </tr>\n",
       "    <tr>\n",
       "      <th>11620</th>\n",
       "      <td>93 km W of Adak</td>\n",
       "      <td>Alaska</td>\n",
       "      <td>None</td>\n",
       "    </tr>\n",
       "    <tr>\n",
       "      <th>11619</th>\n",
       "      <td>16 km SW of Nenana</td>\n",
       "      <td>Alaska</td>\n",
       "      <td>None</td>\n",
       "    </tr>\n",
       "    <tr>\n",
       "      <th>11618</th>\n",
       "      <td>84 km S of Panguna</td>\n",
       "      <td>Papua New Guinea</td>\n",
       "      <td>None</td>\n",
       "    </tr>\n",
       "  </tbody>\n",
       "</table>\n",
       "</div>"
      ],
      "text/plain": [
       "                               0                 1     2\n",
       "11622     24 km S of Fern Forest            Hawaii  None\n",
       "11621  8km NE of Running Springs                CA  None\n",
       "11620            93 km W of Adak            Alaska  None\n",
       "11619         16 km SW of Nenana            Alaska  None\n",
       "11618         84 km S of Panguna  Papua New Guinea  None"
      ]
     },
     "execution_count": 16,
     "metadata": {},
     "output_type": "execute_result"
    }
   ],
   "source": [
    "newdf.head()"
   ]
  },
  {
   "cell_type": "code",
   "execution_count": 17,
   "id": "d38bec2b",
   "metadata": {},
   "outputs": [],
   "source": [
    "df['place'] = newdf[1]\n",
    "df = df[['date', 'latitude', 'longitude', 'depth', 'mag', 'place']]"
   ]
  },
  {
   "cell_type": "code",
   "execution_count": 18,
   "id": "a19e1b8a",
   "metadata": {},
   "outputs": [
    {
     "data": {
      "text/html": [
       "<div>\n",
       "<style scoped>\n",
       "    .dataframe tbody tr th:only-of-type {\n",
       "        vertical-align: middle;\n",
       "    }\n",
       "\n",
       "    .dataframe tbody tr th {\n",
       "        vertical-align: top;\n",
       "    }\n",
       "\n",
       "    .dataframe thead th {\n",
       "        text-align: right;\n",
       "    }\n",
       "</style>\n",
       "<table border=\"1\" class=\"dataframe\">\n",
       "  <thead>\n",
       "    <tr style=\"text-align: right;\">\n",
       "      <th></th>\n",
       "      <th>date</th>\n",
       "      <th>latitude</th>\n",
       "      <th>longitude</th>\n",
       "      <th>depth</th>\n",
       "      <th>mag</th>\n",
       "      <th>place</th>\n",
       "    </tr>\n",
       "  </thead>\n",
       "  <tbody>\n",
       "    <tr>\n",
       "      <th>11622</th>\n",
       "      <td>2023-03-18</td>\n",
       "      <td>19.245500</td>\n",
       "      <td>-155.126333</td>\n",
       "      <td>38.66</td>\n",
       "      <td>1.74</td>\n",
       "      <td>Hawaii</td>\n",
       "    </tr>\n",
       "    <tr>\n",
       "      <th>11621</th>\n",
       "      <td>2023-03-18</td>\n",
       "      <td>34.257667</td>\n",
       "      <td>-117.050333</td>\n",
       "      <td>3.10</td>\n",
       "      <td>1.20</td>\n",
       "      <td>CA</td>\n",
       "    </tr>\n",
       "    <tr>\n",
       "      <th>11620</th>\n",
       "      <td>2023-03-18</td>\n",
       "      <td>51.870167</td>\n",
       "      <td>-177.987833</td>\n",
       "      <td>6.08</td>\n",
       "      <td>1.17</td>\n",
       "      <td>Alaska</td>\n",
       "    </tr>\n",
       "    <tr>\n",
       "      <th>11619</th>\n",
       "      <td>2023-03-18</td>\n",
       "      <td>64.479800</td>\n",
       "      <td>-149.373600</td>\n",
       "      <td>15.30</td>\n",
       "      <td>1.30</td>\n",
       "      <td>Alaska</td>\n",
       "    </tr>\n",
       "    <tr>\n",
       "      <th>11618</th>\n",
       "      <td>2023-03-18</td>\n",
       "      <td>-7.071200</td>\n",
       "      <td>155.601000</td>\n",
       "      <td>10.00</td>\n",
       "      <td>4.70</td>\n",
       "      <td>Papua New Guinea</td>\n",
       "    </tr>\n",
       "  </tbody>\n",
       "</table>\n",
       "</div>"
      ],
      "text/plain": [
       "             date   latitude   longitude  depth   mag             place\n",
       "11622  2023-03-18  19.245500 -155.126333  38.66  1.74            Hawaii\n",
       "11621  2023-03-18  34.257667 -117.050333   3.10  1.20                CA\n",
       "11620  2023-03-18  51.870167 -177.987833   6.08  1.17            Alaska\n",
       "11619  2023-03-18  64.479800 -149.373600  15.30  1.30            Alaska\n",
       "11618  2023-03-18  -7.071200  155.601000  10.00  4.70  Papua New Guinea"
      ]
     },
     "execution_count": 18,
     "metadata": {},
     "output_type": "execute_result"
    }
   ],
   "source": [
    "df.head()"
   ]
  },
  {
   "cell_type": "code",
   "execution_count": 19,
   "id": "c3947228",
   "metadata": {},
   "outputs": [
    {
     "name": "stdout",
     "output_type": "stream",
     "text": [
      "total locations: 101\n"
     ]
    }
   ],
   "source": [
    "print('total locations:',len(set(df['place'])))"
   ]
  },
  {
   "cell_type": "markdown",
   "id": "5dbe3267",
   "metadata": {},
   "source": [
    "Bar plot of mean magnitude vs place, as we can see from the graph, only few countries are considered as epicenter or dangerous since they have magnitude more than 2.8 (I have considered here)"
   ]
  },
  {
   "cell_type": "code",
   "execution_count": 20,
   "id": "c36cf1ff",
   "metadata": {},
   "outputs": [
    {
     "data": {
      "image/png": "[encoded data removed]",
      "text/plain": [
       "<Figure size 1080x576 with 1 Axes>"
      ]
     },
     "metadata": {
      "needs_background": "light"
     },
     "output_type": "display_data"
    }
   ],
   "source": [
    "df.groupby(['place'])['mag'].mean().plot(kind='bar',figsize=(15,8));"
   ]
  },
  {
   "cell_type": "code",
   "execution_count": 21,
   "id": "da9fda82",
   "metadata": {},
   "outputs": [
    {
     "data": {
      "text/plain": [
       "<AxesSubplot:xlabel='place'>"
      ]
     },
     "execution_count": 21,
     "metadata": {},
     "output_type": "execute_result"
    },
    {
     "data": {
      "image/png": "[encoded data removed]",
      "text/plain": [
       "<Figure size 432x288 with 1 Axes>"
      ]
     },
     "metadata": {
      "needs_background": "light"
     },
     "output_type": "display_data"
    }
   ],
   "source": [
    "df.groupby(['place'])['mag'].mean().nsmallest(20).plot(kind='bar')"
   ]
  },
  {
   "cell_type": "code",
   "execution_count": 22,
   "id": "d78e6231",
   "metadata": {},
   "outputs": [
    {
     "data": {
      "text/plain": [
       "<AxesSubplot:xlabel='place'>"
      ]
     },
     "execution_count": 22,
     "metadata": {},
     "output_type": "execute_result"
    },
    {
     "data": {
      "image/png": "[encoded data removed]",
      "text/plain": [
       "<Figure size 432x288 with 1 Axes>"
      ]
     },
     "metadata": {
      "needs_background": "light"
     },
     "output_type": "display_data"
    }
   ],
   "source": [
    "df.groupby(['place'])['mag'].mean().nlargest(20).plot(kind='bar')"
   ]
  },
  {
   "cell_type": "code",
   "execution_count": 23,
   "id": "adc76f24",
   "metadata": {},
   "outputs": [],
   "source": [
    "more_dangerous_places=df.groupby('place')['mag'].mean()\n",
    "more_dangerous_places=more_dangerous_places[more_dangerous_places>3]"
   ]
  },
  {
   "cell_type": "markdown",
   "id": "e8904d49",
   "metadata": {},
   "source": [
    "# Lets consider 3 as threshold for how high the earthquake has hit and lets visualise countries with more than 3 magnitude."
   ]
  },
  {
   "cell_type": "code",
   "execution_count": 24,
   "id": "ebd56134",
   "metadata": {},
   "outputs": [
    {
     "data": {
      "image/png": "[encoded data removed]",
      "text/plain": [
       "<Figure size 1080x576 with 1 Axes>"
      ]
     },
     "metadata": {
      "needs_background": "light"
     },
     "output_type": "display_data"
    }
   ],
   "source": [
    "more_dangerous_places.plot(kind='bar',figsize= (15,8));"
   ]
  },
  {
   "cell_type": "code",
   "execution_count": 25,
   "id": "eb1f967b",
   "metadata": {},
   "outputs": [],
   "source": [
    "# calculate mean latitude and longitude for simplified locations\n",
    "\n",
    "df_coords = df[['place', 'latitude', 'longitude']]\n",
    "df_coords = df_coords.groupby(['place'], as_index=False).mean()\n",
    "df_coords = df_coords[['place', 'latitude', 'longitude']]"
   ]
  },
  {
   "cell_type": "code",
   "execution_count": 26,
   "id": "331fc1d5",
   "metadata": {},
   "outputs": [
    {
     "data": {
      "text/html": [
       "<div>\n",
       "<style scoped>\n",
       "    .dataframe tbody tr th:only-of-type {\n",
       "        vertical-align: middle;\n",
       "    }\n",
       "\n",
       "    .dataframe tbody tr th {\n",
       "        vertical-align: top;\n",
       "    }\n",
       "\n",
       "    .dataframe thead th {\n",
       "        text-align: right;\n",
       "    }\n",
       "</style>\n",
       "<table border=\"1\" class=\"dataframe\">\n",
       "  <thead>\n",
       "    <tr style=\"text-align: right;\">\n",
       "      <th></th>\n",
       "      <th>place</th>\n",
       "      <th>latitude</th>\n",
       "      <th>longitude</th>\n",
       "    </tr>\n",
       "  </thead>\n",
       "  <tbody>\n",
       "    <tr>\n",
       "      <th>0</th>\n",
       "      <td>Afghanistan</td>\n",
       "      <td>36.233878</td>\n",
       "      <td>70.791383</td>\n",
       "    </tr>\n",
       "    <tr>\n",
       "      <th>1</th>\n",
       "      <td>Alaska</td>\n",
       "      <td>58.289146</td>\n",
       "      <td>-156.708497</td>\n",
       "    </tr>\n",
       "    <tr>\n",
       "      <th>2</th>\n",
       "      <td>Albania</td>\n",
       "      <td>40.430200</td>\n",
       "      <td>20.677967</td>\n",
       "    </tr>\n",
       "    <tr>\n",
       "      <th>3</th>\n",
       "      <td>Aleutian Islands</td>\n",
       "      <td>52.337853</td>\n",
       "      <td>-145.509081</td>\n",
       "    </tr>\n",
       "    <tr>\n",
       "      <th>4</th>\n",
       "      <td>Antigua and Barbuda</td>\n",
       "      <td>17.800200</td>\n",
       "      <td>-61.508400</td>\n",
       "    </tr>\n",
       "  </tbody>\n",
       "</table>\n",
       "</div>"
      ],
      "text/plain": [
       "                 place   latitude   longitude\n",
       "0          Afghanistan  36.233878   70.791383\n",
       "1               Alaska  58.289146 -156.708497\n",
       "2              Albania  40.430200   20.677967\n",
       "3     Aleutian Islands  52.337853 -145.509081\n",
       "4  Antigua and Barbuda  17.800200  -61.508400"
      ]
     },
     "execution_count": 26,
     "metadata": {},
     "output_type": "execute_result"
    }
   ],
   "source": [
    "df_coords.head()"
   ]
  },
  {
   "cell_type": "markdown",
   "id": "8fd276dc",
   "metadata": {},
   "source": [
    "Merge the two dataframes of mean latitude and longitude locations calculated above with dataframe only considering ['date' , 'depth', 'mag', 'place'] as columns out of total feature"
   ]
  },
  {
   "cell_type": "code",
   "execution_count": 27,
   "id": "d95da476",
   "metadata": {},
   "outputs": [
    {
     "name": "stdout",
     "output_type": "stream",
     "text": [
      "         date      depth   mag   place  latitude   longitude\n",
      "0  2023-03-18  38.660000  1.74  Hawaii  19.28176 -155.400159\n",
      "1  2023-03-18   1.310000  0.50  Hawaii  19.28176 -155.400159\n",
      "2  2023-03-18  32.889999  1.98  Hawaii  19.28176 -155.400159\n",
      "3  2023-03-18  33.910000  2.02  Hawaii  19.28176 -155.400159\n",
      "4  2023-03-18  30.639999  1.82  Hawaii  19.28176 -155.400159\n",
      "total locations: 100\n"
     ]
    }
   ],
   "source": [
    "df = df[['date', 'depth', 'mag', 'place']]\n",
    "df = pd.merge(left=df, right=df_coords, how='inner', on=['place'])\n",
    "print(df.head())\n",
    "\n",
    "print('total locations:',len(set(df['place'])))"
   ]
  },
  {
   "cell_type": "code",
   "execution_count": 28,
   "id": "5a48bbd3",
   "metadata": {},
   "outputs": [
    {
     "name": "stdout",
     "output_type": "stream",
     "text": [
      "{'New Caledonia', 'Quebec', 'Myanmar', 'China', 'Missouri', 'Colorado', 'Venezuela', 'Northern Mariana Islands', 'Micronesia', 'Montana', 'Tajikistan', 'Uganda', 'California', 'Papua New Guinea', 'South Carolina', 'Dominican Republic', 'Arizona', 'B.C.', 'Brazil', 'France', 'Laikit II (Dimembe)', 'Chile', 'Philippines', 'Tonga', 'Afghanistan', 'Idaho', 'Mongolia', 'Nevada', 'Wyoming', 'Maine', 'Albania', 'Wallis and Futuna', 'Australia', 'Taiwan', 'CA', 'Vanuatu', 'North Carolina', 'Ecuador', 'New Mexico', 'Guadeloupe', 'Oklahoma', 'NV', 'Greece', 'Austria', 'Utah', 'Peru', 'Aleutian Islands', 'Federated States of Micronesia', 'Guam', 'Timor Leste', 'Alaska', 'Antigua and Barbuda', 'Russia', 'Nepal', 'Turkey', 'Fiji', 'Kansas', 'Mexico', 'Hawaii', 'U.S. Virgin Islands', 'Greenland', 'India region', 'Canada region', 'Panama', 'Oregon', 'New Zealand', 'Illinois', 'Tennessee', 'Puerto Rico', 'Argentina', 'Japan region', 'Costa Rica', 'Saint Vincent and the Grenadines', 'Romania', 'Washington', 'Tunisia', 'Bolivia', 'Italy', 'Samoa', 'Egypt', 'Solomon Islands', 'Leeward Islands', 'Nicaragua', 'Japan', 'Libya', 'Guatemala', 'Jamaica', 'Canada', 'Indonesia', 'Pakistan', 'New York', 'Kyrgyzstan', 'El Salvador', 'Tanzania', 'India', 'Colombia', 'South Africa', 'Arkansas', 'Iran', 'Texas'}\n"
     ]
    }
   ],
   "source": [
    "print(set(df['place']))"
   ]
  },
  {
   "cell_type": "code",
   "execution_count": 29,
   "id": "2b761591",
   "metadata": {},
   "outputs": [
    {
     "data": {
      "text/html": [
       "<div>\n",
       "<style scoped>\n",
       "    .dataframe tbody tr th:only-of-type {\n",
       "        vertical-align: middle;\n",
       "    }\n",
       "\n",
       "    .dataframe tbody tr th {\n",
       "        vertical-align: top;\n",
       "    }\n",
       "\n",
       "    .dataframe thead th {\n",
       "        text-align: right;\n",
       "    }\n",
       "</style>\n",
       "<table border=\"1\" class=\"dataframe\">\n",
       "  <thead>\n",
       "    <tr style=\"text-align: right;\">\n",
       "      <th></th>\n",
       "      <th>date</th>\n",
       "      <th>depth</th>\n",
       "      <th>mag</th>\n",
       "      <th>place</th>\n",
       "      <th>latitude</th>\n",
       "      <th>longitude</th>\n",
       "    </tr>\n",
       "  </thead>\n",
       "  <tbody>\n",
       "    <tr>\n",
       "      <th>0</th>\n",
       "      <td>2023-03-18</td>\n",
       "      <td>38.660000</td>\n",
       "      <td>1.74</td>\n",
       "      <td>Hawaii</td>\n",
       "      <td>19.28176</td>\n",
       "      <td>-155.400159</td>\n",
       "    </tr>\n",
       "    <tr>\n",
       "      <th>1</th>\n",
       "      <td>2023-03-18</td>\n",
       "      <td>1.310000</td>\n",
       "      <td>0.50</td>\n",
       "      <td>Hawaii</td>\n",
       "      <td>19.28176</td>\n",
       "      <td>-155.400159</td>\n",
       "    </tr>\n",
       "    <tr>\n",
       "      <th>2</th>\n",
       "      <td>2023-03-18</td>\n",
       "      <td>32.889999</td>\n",
       "      <td>1.98</td>\n",
       "      <td>Hawaii</td>\n",
       "      <td>19.28176</td>\n",
       "      <td>-155.400159</td>\n",
       "    </tr>\n",
       "    <tr>\n",
       "      <th>3</th>\n",
       "      <td>2023-03-18</td>\n",
       "      <td>33.910000</td>\n",
       "      <td>2.02</td>\n",
       "      <td>Hawaii</td>\n",
       "      <td>19.28176</td>\n",
       "      <td>-155.400159</td>\n",
       "    </tr>\n",
       "    <tr>\n",
       "      <th>4</th>\n",
       "      <td>2023-03-18</td>\n",
       "      <td>30.639999</td>\n",
       "      <td>1.82</td>\n",
       "      <td>Hawaii</td>\n",
       "      <td>19.28176</td>\n",
       "      <td>-155.400159</td>\n",
       "    </tr>\n",
       "  </tbody>\n",
       "</table>\n",
       "</div>"
      ],
      "text/plain": [
       "         date      depth   mag   place  latitude   longitude\n",
       "0  2023-03-18  38.660000  1.74  Hawaii  19.28176 -155.400159\n",
       "1  2023-03-18   1.310000  0.50  Hawaii  19.28176 -155.400159\n",
       "2  2023-03-18  32.889999  1.98  Hawaii  19.28176 -155.400159\n",
       "3  2023-03-18  33.910000  2.02  Hawaii  19.28176 -155.400159\n",
       "4  2023-03-18  30.639999  1.82  Hawaii  19.28176 -155.400159"
      ]
     },
     "execution_count": 29,
     "metadata": {},
     "output_type": "execute_result"
    }
   ],
   "source": [
    "df.head()"
   ]
  },
  {
   "cell_type": "markdown",
   "id": "750470ef",
   "metadata": {},
   "source": [
    "# Feature Engineering and Data wrangling\n",
    "* Set rolling window size for future prediction based on past values with fixed window size in past\n",
    "* We have created 6 new features based on rolling window size on average depth and average magnitude.\n",
    "* A final outcome 'mag_outcome' has been defined as target values and the output is considered as shifted values from set rolling window of past days eg: '7'."
   ]
  },
  {
   "cell_type": "code",
   "execution_count": 30,
   "id": "2508a73f",
   "metadata": {},
   "outputs": [],
   "source": [
    "eq_tmp = df.copy()\n",
    "\n",
    "#rolling window size\n",
    "DAYS_OUT_TO_PREDICT = 7\n",
    "\n",
    "# loop through each zone and apply MA\n",
    "eq_data = []\n",
    "eq_data_last_days_out = []\n",
    "\n",
    "for place in list(set(eq_tmp['place'])):\n",
    "    temp_df = eq_tmp[eq_tmp['place'] == place].copy()\n",
    "    \n",
    "    #avg. depth of 22 days rolling period and so on..\n",
    "    temp_df['depth_avg_22'] = temp_df['depth'].rolling(window=22,center=False).mean() \n",
    "    temp_df['depth_avg_15'] = temp_df['depth'].rolling(window=15,center=False).mean()\n",
    "    temp_df['depth_avg_7'] = temp_df['depth'].rolling(window=7,center=False).mean()\n",
    "    temp_df['mag_avg_22'] = temp_df['mag'].rolling(window=22,center=False).mean() \n",
    "    temp_df['mag_avg_15'] = temp_df['mag'].rolling(window=15,center=False).mean()\n",
    "    temp_df['mag_avg_7'] = temp_df['mag'].rolling(window=7,center=False).mean()\n",
    "    temp_df.loc[:, 'mag_outcome'] = temp_df.loc[:, 'mag_avg_7'].shift(DAYS_OUT_TO_PREDICT * -1)\n",
    "    \n",
    "    #days to predict value on earth quake data this is not yet seen or witnessed by next 7 days (consider as live next 7 days period)\n",
    "    \n",
    "    eq_data_last_days_out.append(temp_df.tail(DAYS_OUT_TO_PREDICT))\n",
    "\n",
    "    eq_data.append(temp_df)"
   ]
  },
  {
   "cell_type": "code",
   "execution_count": 31,
   "id": "5e17d23b",
   "metadata": {},
   "outputs": [],
   "source": [
    "# concat all location-based dataframes into master dataframe\n",
    "eq_all = pd.concat(eq_data)"
   ]
  },
  {
   "cell_type": "code",
   "execution_count": 32,
   "id": "0eb738ff",
   "metadata": {},
   "outputs": [
    {
     "data": {
      "text/html": [
       "<div>\n",
       "<style scoped>\n",
       "    .dataframe tbody tr th:only-of-type {\n",
       "        vertical-align: middle;\n",
       "    }\n",
       "\n",
       "    .dataframe tbody tr th {\n",
       "        vertical-align: top;\n",
       "    }\n",
       "\n",
       "    .dataframe thead th {\n",
       "        text-align: right;\n",
       "    }\n",
       "</style>\n",
       "<table border=\"1\" class=\"dataframe\">\n",
       "  <thead>\n",
       "    <tr style=\"text-align: right;\">\n",
       "      <th></th>\n",
       "      <th>date</th>\n",
       "      <th>depth</th>\n",
       "      <th>mag</th>\n",
       "      <th>place</th>\n",
       "      <th>latitude</th>\n",
       "      <th>longitude</th>\n",
       "      <th>depth_avg_22</th>\n",
       "      <th>depth_avg_15</th>\n",
       "      <th>depth_avg_7</th>\n",
       "      <th>mag_avg_22</th>\n",
       "      <th>mag_avg_15</th>\n",
       "      <th>mag_avg_7</th>\n",
       "      <th>mag_outcome</th>\n",
       "    </tr>\n",
       "  </thead>\n",
       "  <tbody>\n",
       "    <tr>\n",
       "      <th>10859</th>\n",
       "      <td>2023-04-05</td>\n",
       "      <td>58.598</td>\n",
       "      <td>4.9</td>\n",
       "      <td>New Caledonia</td>\n",
       "      <td>-21.374900</td>\n",
       "      <td>169.731900</td>\n",
       "      <td>NaN</td>\n",
       "      <td>NaN</td>\n",
       "      <td>NaN</td>\n",
       "      <td>NaN</td>\n",
       "      <td>NaN</td>\n",
       "      <td>NaN</td>\n",
       "      <td>NaN</td>\n",
       "    </tr>\n",
       "    <tr>\n",
       "      <th>10823</th>\n",
       "      <td>2023-03-28</td>\n",
       "      <td>5.824</td>\n",
       "      <td>1.5</td>\n",
       "      <td>Quebec</td>\n",
       "      <td>47.581100</td>\n",
       "      <td>-70.278300</td>\n",
       "      <td>NaN</td>\n",
       "      <td>NaN</td>\n",
       "      <td>NaN</td>\n",
       "      <td>NaN</td>\n",
       "      <td>NaN</td>\n",
       "      <td>NaN</td>\n",
       "      <td>NaN</td>\n",
       "    </tr>\n",
       "    <tr>\n",
       "      <th>10783</th>\n",
       "      <td>2023-03-25</td>\n",
       "      <td>11.095</td>\n",
       "      <td>4.2</td>\n",
       "      <td>Myanmar</td>\n",
       "      <td>21.960175</td>\n",
       "      <td>95.595775</td>\n",
       "      <td>NaN</td>\n",
       "      <td>NaN</td>\n",
       "      <td>NaN</td>\n",
       "      <td>NaN</td>\n",
       "      <td>NaN</td>\n",
       "      <td>NaN</td>\n",
       "      <td>NaN</td>\n",
       "    </tr>\n",
       "    <tr>\n",
       "      <th>10784</th>\n",
       "      <td>2023-03-28</td>\n",
       "      <td>10.000</td>\n",
       "      <td>3.5</td>\n",
       "      <td>Myanmar</td>\n",
       "      <td>21.960175</td>\n",
       "      <td>95.595775</td>\n",
       "      <td>NaN</td>\n",
       "      <td>NaN</td>\n",
       "      <td>NaN</td>\n",
       "      <td>NaN</td>\n",
       "      <td>NaN</td>\n",
       "      <td>NaN</td>\n",
       "      <td>NaN</td>\n",
       "    </tr>\n",
       "    <tr>\n",
       "      <th>10785</th>\n",
       "      <td>2023-04-08</td>\n",
       "      <td>10.000</td>\n",
       "      <td>4.2</td>\n",
       "      <td>Myanmar</td>\n",
       "      <td>21.960175</td>\n",
       "      <td>95.595775</td>\n",
       "      <td>NaN</td>\n",
       "      <td>NaN</td>\n",
       "      <td>NaN</td>\n",
       "      <td>NaN</td>\n",
       "      <td>NaN</td>\n",
       "      <td>NaN</td>\n",
       "      <td>NaN</td>\n",
       "    </tr>\n",
       "  </tbody>\n",
       "</table>\n",
       "</div>"
      ],
      "text/plain": [
       "             date   depth  mag          place   latitude   longitude  \\\n",
       "10859  2023-04-05  58.598  4.9  New Caledonia -21.374900  169.731900   \n",
       "10823  2023-03-28   5.824  1.5         Quebec  47.581100  -70.278300   \n",
       "10783  2023-03-25  11.095  4.2        Myanmar  21.960175   95.595775   \n",
       "10784  2023-03-28  10.000  3.5        Myanmar  21.960175   95.595775   \n",
       "10785  2023-04-08  10.000  4.2        Myanmar  21.960175   95.595775   \n",
       "\n",
       "       depth_avg_22  depth_avg_15  depth_avg_7  mag_avg_22  mag_avg_15  \\\n",
       "10859           NaN           NaN          NaN         NaN         NaN   \n",
       "10823           NaN           NaN          NaN         NaN         NaN   \n",
       "10783           NaN           NaN          NaN         NaN         NaN   \n",
       "10784           NaN           NaN          NaN         NaN         NaN   \n",
       "10785           NaN           NaN          NaN         NaN         NaN   \n",
       "\n",
       "       mag_avg_7  mag_outcome  \n",
       "10859        NaN          NaN  \n",
       "10823        NaN          NaN  \n",
       "10783        NaN          NaN  \n",
       "10784        NaN          NaN  \n",
       "10785        NaN          NaN  "
      ]
     },
     "execution_count": 32,
     "metadata": {},
     "output_type": "execute_result"
    }
   ],
   "source": [
    "eq_all.head()"
   ]
  },
  {
   "cell_type": "markdown",
   "id": "77c73182",
   "metadata": {},
   "source": [
    "location after feature engineering"
   ]
  },
  {
   "cell_type": "code",
   "execution_count": 33,
   "id": "dcccb5bd",
   "metadata": {},
   "outputs": [],
   "source": [
    "# remove any NaN fields\n",
    "eq_all = eq_all[np.isfinite(eq_all['depth_avg_22'])]\n",
    "eq_all = eq_all[np.isfinite(eq_all['mag_avg_22'])]\n",
    "eq_all = eq_all[np.isfinite(eq_all['mag_outcome'])]"
   ]
  },
  {
   "cell_type": "code",
   "execution_count": 34,
   "id": "4bb73c4e",
   "metadata": {},
   "outputs": [
    {
     "data": {
      "text/html": [
       "<div>\n",
       "<style scoped>\n",
       "    .dataframe tbody tr th:only-of-type {\n",
       "        vertical-align: middle;\n",
       "    }\n",
       "\n",
       "    .dataframe tbody tr th {\n",
       "        vertical-align: top;\n",
       "    }\n",
       "\n",
       "    .dataframe thead th {\n",
       "        text-align: right;\n",
       "    }\n",
       "</style>\n",
       "<table border=\"1\" class=\"dataframe\">\n",
       "  <thead>\n",
       "    <tr style=\"text-align: right;\">\n",
       "      <th></th>\n",
       "      <th>date</th>\n",
       "      <th>depth</th>\n",
       "      <th>mag</th>\n",
       "      <th>place</th>\n",
       "      <th>latitude</th>\n",
       "      <th>longitude</th>\n",
       "      <th>depth_avg_22</th>\n",
       "      <th>depth_avg_15</th>\n",
       "      <th>depth_avg_7</th>\n",
       "      <th>mag_avg_22</th>\n",
       "      <th>mag_avg_15</th>\n",
       "      <th>mag_avg_7</th>\n",
       "      <th>mag_outcome</th>\n",
       "    </tr>\n",
       "  </thead>\n",
       "  <tbody>\n",
       "    <tr>\n",
       "      <th>8591</th>\n",
       "      <td>2023-03-28</td>\n",
       "      <td>4.73</td>\n",
       "      <td>0.93</td>\n",
       "      <td>Montana</td>\n",
       "      <td>44.638252</td>\n",
       "      <td>-110.829041</td>\n",
       "      <td>7.018182</td>\n",
       "      <td>6.548667</td>\n",
       "      <td>7.004286</td>\n",
       "      <td>0.880455</td>\n",
       "      <td>0.818667</td>\n",
       "      <td>0.758571</td>\n",
       "      <td>0.918571</td>\n",
       "    </tr>\n",
       "    <tr>\n",
       "      <th>8592</th>\n",
       "      <td>2023-03-29</td>\n",
       "      <td>4.85</td>\n",
       "      <td>0.94</td>\n",
       "      <td>Montana</td>\n",
       "      <td>44.638252</td>\n",
       "      <td>-110.829041</td>\n",
       "      <td>6.919545</td>\n",
       "      <td>6.527333</td>\n",
       "      <td>6.650000</td>\n",
       "      <td>0.884091</td>\n",
       "      <td>0.865333</td>\n",
       "      <td>0.914286</td>\n",
       "      <td>0.825714</td>\n",
       "    </tr>\n",
       "    <tr>\n",
       "      <th>8593</th>\n",
       "      <td>2023-03-29</td>\n",
       "      <td>4.70</td>\n",
       "      <td>0.65</td>\n",
       "      <td>Montana</td>\n",
       "      <td>44.638252</td>\n",
       "      <td>-110.829041</td>\n",
       "      <td>6.785000</td>\n",
       "      <td>6.322667</td>\n",
       "      <td>5.985714</td>\n",
       "      <td>0.864545</td>\n",
       "      <td>0.754667</td>\n",
       "      <td>0.758571</td>\n",
       "      <td>0.812857</td>\n",
       "    </tr>\n",
       "    <tr>\n",
       "      <th>8594</th>\n",
       "      <td>2023-03-29</td>\n",
       "      <td>5.00</td>\n",
       "      <td>3.00</td>\n",
       "      <td>Montana</td>\n",
       "      <td>44.638252</td>\n",
       "      <td>-110.829041</td>\n",
       "      <td>6.520909</td>\n",
       "      <td>6.364000</td>\n",
       "      <td>5.932857</td>\n",
       "      <td>0.930455</td>\n",
       "      <td>0.948000</td>\n",
       "      <td>1.170000</td>\n",
       "      <td>0.578571</td>\n",
       "    </tr>\n",
       "    <tr>\n",
       "      <th>8595</th>\n",
       "      <td>2023-03-29</td>\n",
       "      <td>1.85</td>\n",
       "      <td>0.53</td>\n",
       "      <td>Montana</td>\n",
       "      <td>44.638252</td>\n",
       "      <td>-110.829041</td>\n",
       "      <td>6.191818</td>\n",
       "      <td>6.086000</td>\n",
       "      <td>5.267143</td>\n",
       "      <td>0.937273</td>\n",
       "      <td>0.918000</td>\n",
       "      <td>1.175714</td>\n",
       "      <td>0.547143</td>\n",
       "    </tr>\n",
       "  </tbody>\n",
       "</table>\n",
       "</div>"
      ],
      "text/plain": [
       "            date  depth   mag    place   latitude   longitude  depth_avg_22  \\\n",
       "8591  2023-03-28   4.73  0.93  Montana  44.638252 -110.829041      7.018182   \n",
       "8592  2023-03-29   4.85  0.94  Montana  44.638252 -110.829041      6.919545   \n",
       "8593  2023-03-29   4.70  0.65  Montana  44.638252 -110.829041      6.785000   \n",
       "8594  2023-03-29   5.00  3.00  Montana  44.638252 -110.829041      6.520909   \n",
       "8595  2023-03-29   1.85  0.53  Montana  44.638252 -110.829041      6.191818   \n",
       "\n",
       "      depth_avg_15  depth_avg_7  mag_avg_22  mag_avg_15  mag_avg_7  \\\n",
       "8591      6.548667     7.004286    0.880455    0.818667   0.758571   \n",
       "8592      6.527333     6.650000    0.884091    0.865333   0.914286   \n",
       "8593      6.322667     5.985714    0.864545    0.754667   0.758571   \n",
       "8594      6.364000     5.932857    0.930455    0.948000   1.170000   \n",
       "8595      6.086000     5.267143    0.937273    0.918000   1.175714   \n",
       "\n",
       "      mag_outcome  \n",
       "8591     0.918571  \n",
       "8592     0.825714  \n",
       "8593     0.812857  \n",
       "8594     0.578571  \n",
       "8595     0.547143  "
      ]
     },
     "execution_count": 34,
     "metadata": {},
     "output_type": "execute_result"
    }
   ],
   "source": [
    "eq_all.head()"
   ]
  },
  {
   "cell_type": "code",
   "execution_count": 35,
   "id": "d919ba91",
   "metadata": {},
   "outputs": [
    {
     "data": {
      "image/png": "[encoded data removed]",
      "text/plain": [
       "<Figure size 432x288 with 1 Axes>"
      ]
     },
     "metadata": {
      "needs_background": "light"
     },
     "output_type": "display_data"
    }
   ],
   "source": [
    "plt.plot(eq_all['longitude'], \n",
    "         eq_all['latitude'],\n",
    "         linestyle='none', marker='.')\n",
    "plt.suptitle('Historical Earthquakes with Aggregated Longitude And Latitude')\n",
    "plt.xlabel('Longitude')\n",
    "plt.ylabel('Latitude')\n",
    "plt.grid()\n",
    "plt.show()"
   ]
  },
  {
   "cell_type": "code",
   "execution_count": 36,
   "id": "41197d37",
   "metadata": {},
   "outputs": [],
   "source": [
    "# keep our live data for predictions\n",
    "eq_data_last_days_out = pd.concat(eq_data_last_days_out)\n",
    "\n",
    "\n",
    "eq_data_last_days_out = eq_data_last_days_out[np.isfinite(eq_data_last_days_out['mag_avg_22'])]\n",
    "predict_unknown=eq_data_last_days_out"
   ]
  },
  {
   "cell_type": "code",
   "execution_count": 37,
   "id": "a77601f1",
   "metadata": {},
   "outputs": [
    {
     "data": {
      "text/html": [
       "<div>\n",
       "<style scoped>\n",
       "    .dataframe tbody tr th:only-of-type {\n",
       "        vertical-align: middle;\n",
       "    }\n",
       "\n",
       "    .dataframe tbody tr th {\n",
       "        vertical-align: top;\n",
       "    }\n",
       "\n",
       "    .dataframe thead th {\n",
       "        text-align: right;\n",
       "    }\n",
       "</style>\n",
       "<table border=\"1\" class=\"dataframe\">\n",
       "  <thead>\n",
       "    <tr style=\"text-align: right;\">\n",
       "      <th></th>\n",
       "      <th>date</th>\n",
       "      <th>depth</th>\n",
       "      <th>mag</th>\n",
       "      <th>place</th>\n",
       "      <th>latitude</th>\n",
       "      <th>longitude</th>\n",
       "      <th>depth_avg_22</th>\n",
       "      <th>depth_avg_15</th>\n",
       "      <th>depth_avg_7</th>\n",
       "      <th>mag_avg_22</th>\n",
       "      <th>mag_avg_15</th>\n",
       "      <th>mag_avg_7</th>\n",
       "      <th>mag_outcome</th>\n",
       "    </tr>\n",
       "  </thead>\n",
       "  <tbody>\n",
       "    <tr>\n",
       "      <th>8623</th>\n",
       "      <td>2023-04-09</td>\n",
       "      <td>17.850000</td>\n",
       "      <td>0.45</td>\n",
       "      <td>Montana</td>\n",
       "      <td>44.638252</td>\n",
       "      <td>-110.829041</td>\n",
       "      <td>10.454091</td>\n",
       "      <td>11.691333</td>\n",
       "      <td>14.215714</td>\n",
       "      <td>0.753182</td>\n",
       "      <td>0.612667</td>\n",
       "      <td>0.650000</td>\n",
       "      <td>NaN</td>\n",
       "    </tr>\n",
       "    <tr>\n",
       "      <th>8624</th>\n",
       "      <td>2023-04-10</td>\n",
       "      <td>14.020000</td>\n",
       "      <td>0.72</td>\n",
       "      <td>Montana</td>\n",
       "      <td>44.638252</td>\n",
       "      <td>-110.829041</td>\n",
       "      <td>10.377727</td>\n",
       "      <td>11.944667</td>\n",
       "      <td>13.704286</td>\n",
       "      <td>0.771818</td>\n",
       "      <td>0.623333</td>\n",
       "      <td>0.682857</td>\n",
       "      <td>NaN</td>\n",
       "    </tr>\n",
       "    <tr>\n",
       "      <th>8625</th>\n",
       "      <td>2023-04-10</td>\n",
       "      <td>18.480000</td>\n",
       "      <td>0.31</td>\n",
       "      <td>Montana</td>\n",
       "      <td>44.638252</td>\n",
       "      <td>-110.829041</td>\n",
       "      <td>10.980000</td>\n",
       "      <td>12.489333</td>\n",
       "      <td>14.068571</td>\n",
       "      <td>0.734545</td>\n",
       "      <td>0.634000</td>\n",
       "      <td>0.671429</td>\n",
       "      <td>NaN</td>\n",
       "    </tr>\n",
       "    <tr>\n",
       "      <th>8626</th>\n",
       "      <td>2023-04-11</td>\n",
       "      <td>8.690000</td>\n",
       "      <td>0.34</td>\n",
       "      <td>Montana</td>\n",
       "      <td>44.638252</td>\n",
       "      <td>-110.829041</td>\n",
       "      <td>11.043182</td>\n",
       "      <td>12.466000</td>\n",
       "      <td>12.940000</td>\n",
       "      <td>0.661364</td>\n",
       "      <td>0.604000</td>\n",
       "      <td>0.572857</td>\n",
       "      <td>NaN</td>\n",
       "    </tr>\n",
       "    <tr>\n",
       "      <th>8627</th>\n",
       "      <td>2023-04-11</td>\n",
       "      <td>4.960000</td>\n",
       "      <td>-0.17</td>\n",
       "      <td>Montana</td>\n",
       "      <td>44.638252</td>\n",
       "      <td>-110.829041</td>\n",
       "      <td>11.070455</td>\n",
       "      <td>12.218667</td>\n",
       "      <td>11.428571</td>\n",
       "      <td>0.599091</td>\n",
       "      <td>0.594667</td>\n",
       "      <td>0.510000</td>\n",
       "      <td>NaN</td>\n",
       "    </tr>\n",
       "    <tr>\n",
       "      <th>...</th>\n",
       "      <td>...</td>\n",
       "      <td>...</td>\n",
       "      <td>...</td>\n",
       "      <td>...</td>\n",
       "      <td>...</td>\n",
       "      <td>...</td>\n",
       "      <td>...</td>\n",
       "      <td>...</td>\n",
       "      <td>...</td>\n",
       "      <td>...</td>\n",
       "      <td>...</td>\n",
       "      <td>...</td>\n",
       "      <td>...</td>\n",
       "    </tr>\n",
       "    <tr>\n",
       "      <th>9464</th>\n",
       "      <td>2023-04-13</td>\n",
       "      <td>7.211304</td>\n",
       "      <td>2.10</td>\n",
       "      <td>Texas</td>\n",
       "      <td>31.255504</td>\n",
       "      <td>-102.801352</td>\n",
       "      <td>7.428859</td>\n",
       "      <td>7.550656</td>\n",
       "      <td>7.336627</td>\n",
       "      <td>2.304545</td>\n",
       "      <td>2.046667</td>\n",
       "      <td>2.071429</td>\n",
       "      <td>NaN</td>\n",
       "    </tr>\n",
       "    <tr>\n",
       "      <th>9465</th>\n",
       "      <td>2023-04-13</td>\n",
       "      <td>9.216528</td>\n",
       "      <td>2.30</td>\n",
       "      <td>Texas</td>\n",
       "      <td>31.255504</td>\n",
       "      <td>-102.801352</td>\n",
       "      <td>7.498756</td>\n",
       "      <td>7.659693</td>\n",
       "      <td>7.696539</td>\n",
       "      <td>2.290909</td>\n",
       "      <td>2.060000</td>\n",
       "      <td>2.114286</td>\n",
       "      <td>NaN</td>\n",
       "    </tr>\n",
       "    <tr>\n",
       "      <th>9466</th>\n",
       "      <td>2023-04-13</td>\n",
       "      <td>5.453410</td>\n",
       "      <td>3.00</td>\n",
       "      <td>Texas</td>\n",
       "      <td>31.255504</td>\n",
       "      <td>-102.801352</td>\n",
       "      <td>7.358087</td>\n",
       "      <td>7.439668</td>\n",
       "      <td>7.540898</td>\n",
       "      <td>2.300000</td>\n",
       "      <td>2.146667</td>\n",
       "      <td>2.257143</td>\n",
       "      <td>NaN</td>\n",
       "    </tr>\n",
       "    <tr>\n",
       "      <th>9467</th>\n",
       "      <td>2023-04-15</td>\n",
       "      <td>3.149438</td>\n",
       "      <td>3.10</td>\n",
       "      <td>Texas</td>\n",
       "      <td>31.255504</td>\n",
       "      <td>-102.801352</td>\n",
       "      <td>7.126715</td>\n",
       "      <td>7.247715</td>\n",
       "      <td>6.975322</td>\n",
       "      <td>2.304545</td>\n",
       "      <td>2.206667</td>\n",
       "      <td>2.342857</td>\n",
       "      <td>NaN</td>\n",
       "    </tr>\n",
       "    <tr>\n",
       "      <th>9468</th>\n",
       "      <td>2023-04-15</td>\n",
       "      <td>5.000000</td>\n",
       "      <td>3.00</td>\n",
       "      <td>Texas</td>\n",
       "      <td>31.255504</td>\n",
       "      <td>-102.801352</td>\n",
       "      <td>7.081651</td>\n",
       "      <td>6.957186</td>\n",
       "      <td>6.547221</td>\n",
       "      <td>2.268182</td>\n",
       "      <td>2.246667</td>\n",
       "      <td>2.500000</td>\n",
       "      <td>NaN</td>\n",
       "    </tr>\n",
       "  </tbody>\n",
       "</table>\n",
       "<p>158 rows × 13 columns</p>\n",
       "</div>"
      ],
      "text/plain": [
       "            date      depth   mag    place   latitude   longitude  \\\n",
       "8623  2023-04-09  17.850000  0.45  Montana  44.638252 -110.829041   \n",
       "8624  2023-04-10  14.020000  0.72  Montana  44.638252 -110.829041   \n",
       "8625  2023-04-10  18.480000  0.31  Montana  44.638252 -110.829041   \n",
       "8626  2023-04-11   8.690000  0.34  Montana  44.638252 -110.829041   \n",
       "8627  2023-04-11   4.960000 -0.17  Montana  44.638252 -110.829041   \n",
       "...          ...        ...   ...      ...        ...         ...   \n",
       "9464  2023-04-13   7.211304  2.10    Texas  31.255504 -102.801352   \n",
       "9465  2023-04-13   9.216528  2.30    Texas  31.255504 -102.801352   \n",
       "9466  2023-04-13   5.453410  3.00    Texas  31.255504 -102.801352   \n",
       "9467  2023-04-15   3.149438  3.10    Texas  31.255504 -102.801352   \n",
       "9468  2023-04-15   5.000000  3.00    Texas  31.255504 -102.801352   \n",
       "\n",
       "      depth_avg_22  depth_avg_15  depth_avg_7  mag_avg_22  mag_avg_15  \\\n",
       "8623     10.454091     11.691333    14.215714    0.753182    0.612667   \n",
       "8624     10.377727     11.944667    13.704286    0.771818    0.623333   \n",
       "8625     10.980000     12.489333    14.068571    0.734545    0.634000   \n",
       "8626     11.043182     12.466000    12.940000    0.661364    0.604000   \n",
       "8627     11.070455     12.218667    11.428571    0.599091    0.594667   \n",
       "...            ...           ...          ...         ...         ...   \n",
       "9464      7.428859      7.550656     7.336627    2.304545    2.046667   \n",
       "9465      7.498756      7.659693     7.696539    2.290909    2.060000   \n",
       "9466      7.358087      7.439668     7.540898    2.300000    2.146667   \n",
       "9467      7.126715      7.247715     6.975322    2.304545    2.206667   \n",
       "9468      7.081651      6.957186     6.547221    2.268182    2.246667   \n",
       "\n",
       "      mag_avg_7  mag_outcome  \n",
       "8623   0.650000          NaN  \n",
       "8624   0.682857          NaN  \n",
       "8625   0.671429          NaN  \n",
       "8626   0.572857          NaN  \n",
       "8627   0.510000          NaN  \n",
       "...         ...          ...  \n",
       "9464   2.071429          NaN  \n",
       "9465   2.114286          NaN  \n",
       "9466   2.257143          NaN  \n",
       "9467   2.342857          NaN  \n",
       "9468   2.500000          NaN  \n",
       "\n",
       "[158 rows x 13 columns]"
      ]
     },
     "execution_count": 37,
     "metadata": {},
     "output_type": "execute_result"
    }
   ],
   "source": [
    "# here 'mag_outcome' has NaN because these are future outcome event to be predicted live or data that has not yet been witnessed\n",
    "predict_unknown"
   ]
  },
  {
   "cell_type": "markdown",
   "id": "a0a40572",
   "metadata": {},
   "source": [
    "considered magnitude above 2.5 as dangerous hence prediction outcome as '1' elso '0'."
   ]
  },
  {
   "cell_type": "code",
   "execution_count": 38,
   "id": "ecbd0a79",
   "metadata": {},
   "outputs": [
    {
     "name": "stdout",
     "output_type": "stream",
     "text": [
      "count    9842.000000\n",
      "mean        0.020931\n",
      "std         0.143160\n",
      "min         0.000000\n",
      "25%         0.000000\n",
      "50%         0.000000\n",
      "75%         0.000000\n",
      "max         1.000000\n",
      "Name: mag_outcome, dtype: float64\n"
     ]
    },
    {
     "data": {
      "text/plain": [
       "0    9636\n",
       "1     206\n",
       "Name: mag_outcome, dtype: int64"
      ]
     },
     "execution_count": 38,
     "metadata": {},
     "output_type": "execute_result"
    }
   ],
   "source": [
    "eq_all['mag_outcome'] = np.where(eq_all['mag_outcome'] > 2.5, 1,0)\n",
    "print(eq_all['mag_outcome'].describe())\n",
    "eq_all['mag_outcome'].value_counts()"
   ]
  },
  {
   "cell_type": "code",
   "execution_count": 39,
   "id": "97cd1b24",
   "metadata": {},
   "outputs": [
    {
     "data": {
      "image/png": "[encoded data removed]",
      "text/plain": [
       "<Figure size 432x288 with 1 Axes>"
      ]
     },
     "metadata": {
      "needs_background": "light"
     },
     "output_type": "display_data"
    }
   ],
   "source": [
    "eq_all['mag_outcome'].value_counts().plot(kind='bar',)\n",
    "plt.xlabel('Earthquake_outcome')\n",
    "plt.ylabel('counts')\n",
    "plt.title('class distribution');"
   ]
  },
  {
   "cell_type": "markdown",
   "id": "2d2b223e",
   "metadata": {},
   "source": [
    "# Save the data of of fixed rolling window and live unknown prediction data in sql database using sql engine"
   ]
  },
  {
   "cell_type": "code",
   "execution_count": 40,
   "id": "dc491c4f",
   "metadata": {},
   "outputs": [
    {
     "data": {
      "text/plain": [
       "9842"
      ]
     },
     "execution_count": 40,
     "metadata": {},
     "output_type": "execute_result"
    }
   ],
   "source": [
    "from sqlalchemy import create_engine\n",
    "engine = create_engine('sqlite:///Earthquakedata.db')\n",
    "eq_all.to_sql('Earthquake_features', engine, index=False,if_exists='replace')"
   ]
  },
  {
   "cell_type": "code",
   "execution_count": 41,
   "id": "e6a189bf",
   "metadata": {},
   "outputs": [
    {
     "data": {
      "text/plain": [
       "158"
      ]
     },
     "execution_count": 41,
     "metadata": {},
     "output_type": "execute_result"
    }
   ],
   "source": [
    "engine = create_engine('sqlite:///Earthquakedata_predict.db')\n",
    "predict_unknown.to_sql('Earthquake_predict', engine, index=False,if_exists='replace')"
   ]
  },
  {
   "cell_type": "markdown",
   "id": "eb933948",
   "metadata": {},
   "source": [
    "Load training and prediction window data from saved sql database"
   ]
  },
  {
   "cell_type": "code",
   "execution_count": 42,
   "id": "0c972052",
   "metadata": {},
   "outputs": [],
   "source": [
    "engine =create_engine('sqlite:///Earthquakedata.db')\n",
    "df_features = pd.read_sql_table('Earthquake_features',con=engine)"
   ]
  },
  {
   "cell_type": "code",
   "execution_count": 43,
   "id": "c9b3382a",
   "metadata": {},
   "outputs": [
    {
     "data": {
      "text/html": [
       "<div>\n",
       "<style scoped>\n",
       "    .dataframe tbody tr th:only-of-type {\n",
       "        vertical-align: middle;\n",
       "    }\n",
       "\n",
       "    .dataframe tbody tr th {\n",
       "        vertical-align: top;\n",
       "    }\n",
       "\n",
       "    .dataframe thead th {\n",
       "        text-align: right;\n",
       "    }\n",
       "</style>\n",
       "<table border=\"1\" class=\"dataframe\">\n",
       "  <thead>\n",
       "    <tr style=\"text-align: right;\">\n",
       "      <th></th>\n",
       "      <th>date</th>\n",
       "      <th>depth</th>\n",
       "      <th>mag</th>\n",
       "      <th>place</th>\n",
       "      <th>latitude</th>\n",
       "      <th>longitude</th>\n",
       "      <th>depth_avg_22</th>\n",
       "      <th>depth_avg_15</th>\n",
       "      <th>depth_avg_7</th>\n",
       "      <th>mag_avg_22</th>\n",
       "      <th>mag_avg_15</th>\n",
       "      <th>mag_avg_7</th>\n",
       "      <th>mag_outcome</th>\n",
       "    </tr>\n",
       "  </thead>\n",
       "  <tbody>\n",
       "    <tr>\n",
       "      <th>0</th>\n",
       "      <td>2023-03-28</td>\n",
       "      <td>4.73</td>\n",
       "      <td>0.93</td>\n",
       "      <td>Montana</td>\n",
       "      <td>44.638252</td>\n",
       "      <td>-110.829041</td>\n",
       "      <td>7.018182</td>\n",
       "      <td>6.548667</td>\n",
       "      <td>7.004286</td>\n",
       "      <td>0.880455</td>\n",
       "      <td>0.818667</td>\n",
       "      <td>0.758571</td>\n",
       "      <td>0</td>\n",
       "    </tr>\n",
       "    <tr>\n",
       "      <th>1</th>\n",
       "      <td>2023-03-29</td>\n",
       "      <td>4.85</td>\n",
       "      <td>0.94</td>\n",
       "      <td>Montana</td>\n",
       "      <td>44.638252</td>\n",
       "      <td>-110.829041</td>\n",
       "      <td>6.919545</td>\n",
       "      <td>6.527333</td>\n",
       "      <td>6.650000</td>\n",
       "      <td>0.884091</td>\n",
       "      <td>0.865333</td>\n",
       "      <td>0.914286</td>\n",
       "      <td>0</td>\n",
       "    </tr>\n",
       "    <tr>\n",
       "      <th>2</th>\n",
       "      <td>2023-03-29</td>\n",
       "      <td>4.70</td>\n",
       "      <td>0.65</td>\n",
       "      <td>Montana</td>\n",
       "      <td>44.638252</td>\n",
       "      <td>-110.829041</td>\n",
       "      <td>6.785000</td>\n",
       "      <td>6.322667</td>\n",
       "      <td>5.985714</td>\n",
       "      <td>0.864545</td>\n",
       "      <td>0.754667</td>\n",
       "      <td>0.758571</td>\n",
       "      <td>0</td>\n",
       "    </tr>\n",
       "    <tr>\n",
       "      <th>3</th>\n",
       "      <td>2023-03-29</td>\n",
       "      <td>5.00</td>\n",
       "      <td>3.00</td>\n",
       "      <td>Montana</td>\n",
       "      <td>44.638252</td>\n",
       "      <td>-110.829041</td>\n",
       "      <td>6.520909</td>\n",
       "      <td>6.364000</td>\n",
       "      <td>5.932857</td>\n",
       "      <td>0.930455</td>\n",
       "      <td>0.948000</td>\n",
       "      <td>1.170000</td>\n",
       "      <td>0</td>\n",
       "    </tr>\n",
       "    <tr>\n",
       "      <th>4</th>\n",
       "      <td>2023-03-29</td>\n",
       "      <td>1.85</td>\n",
       "      <td>0.53</td>\n",
       "      <td>Montana</td>\n",
       "      <td>44.638252</td>\n",
       "      <td>-110.829041</td>\n",
       "      <td>6.191818</td>\n",
       "      <td>6.086000</td>\n",
       "      <td>5.267143</td>\n",
       "      <td>0.937273</td>\n",
       "      <td>0.918000</td>\n",
       "      <td>1.175714</td>\n",
       "      <td>0</td>\n",
       "    </tr>\n",
       "  </tbody>\n",
       "</table>\n",
       "</div>"
      ],
      "text/plain": [
       "         date  depth   mag    place   latitude   longitude  depth_avg_22  \\\n",
       "0  2023-03-28   4.73  0.93  Montana  44.638252 -110.829041      7.018182   \n",
       "1  2023-03-29   4.85  0.94  Montana  44.638252 -110.829041      6.919545   \n",
       "2  2023-03-29   4.70  0.65  Montana  44.638252 -110.829041      6.785000   \n",
       "3  2023-03-29   5.00  3.00  Montana  44.638252 -110.829041      6.520909   \n",
       "4  2023-03-29   1.85  0.53  Montana  44.638252 -110.829041      6.191818   \n",
       "\n",
       "   depth_avg_15  depth_avg_7  mag_avg_22  mag_avg_15  mag_avg_7  mag_outcome  \n",
       "0      6.548667     7.004286    0.880455    0.818667   0.758571            0  \n",
       "1      6.527333     6.650000    0.884091    0.865333   0.914286            0  \n",
       "2      6.322667     5.985714    0.864545    0.754667   0.758571            0  \n",
       "3      6.364000     5.932857    0.930455    0.948000   1.170000            0  \n",
       "4      6.086000     5.267143    0.937273    0.918000   1.175714            0  "
      ]
     },
     "execution_count": 43,
     "metadata": {},
     "output_type": "execute_result"
    }
   ],
   "source": [
    "df_features.head()"
   ]
  },
  {
   "cell_type": "code",
   "execution_count": 44,
   "id": "1775e60a",
   "metadata": {},
   "outputs": [],
   "source": [
    "engine =create_engine('sqlite:///Earthquakedata_predict.db')\n",
    "df_predict = pd.read_sql_table('Earthquake_predict',con=engine)"
   ]
  },
  {
   "cell_type": "code",
   "execution_count": 45,
   "id": "52dcd715",
   "metadata": {},
   "outputs": [
    {
     "data": {
      "text/html": [
       "<div>\n",
       "<style scoped>\n",
       "    .dataframe tbody tr th:only-of-type {\n",
       "        vertical-align: middle;\n",
       "    }\n",
       "\n",
       "    .dataframe tbody tr th {\n",
       "        vertical-align: top;\n",
       "    }\n",
       "\n",
       "    .dataframe thead th {\n",
       "        text-align: right;\n",
       "    }\n",
       "</style>\n",
       "<table border=\"1\" class=\"dataframe\">\n",
       "  <thead>\n",
       "    <tr style=\"text-align: right;\">\n",
       "      <th></th>\n",
       "      <th>date</th>\n",
       "      <th>depth</th>\n",
       "      <th>mag</th>\n",
       "      <th>place</th>\n",
       "      <th>latitude</th>\n",
       "      <th>longitude</th>\n",
       "      <th>depth_avg_22</th>\n",
       "      <th>depth_avg_15</th>\n",
       "      <th>depth_avg_7</th>\n",
       "      <th>mag_avg_22</th>\n",
       "      <th>mag_avg_15</th>\n",
       "      <th>mag_avg_7</th>\n",
       "      <th>mag_outcome</th>\n",
       "    </tr>\n",
       "  </thead>\n",
       "  <tbody>\n",
       "    <tr>\n",
       "      <th>0</th>\n",
       "      <td>2023-04-09</td>\n",
       "      <td>17.85</td>\n",
       "      <td>0.45</td>\n",
       "      <td>Montana</td>\n",
       "      <td>44.638252</td>\n",
       "      <td>-110.829041</td>\n",
       "      <td>10.454091</td>\n",
       "      <td>11.691333</td>\n",
       "      <td>14.215714</td>\n",
       "      <td>0.753182</td>\n",
       "      <td>0.612667</td>\n",
       "      <td>0.650000</td>\n",
       "      <td>NaN</td>\n",
       "    </tr>\n",
       "    <tr>\n",
       "      <th>1</th>\n",
       "      <td>2023-04-10</td>\n",
       "      <td>14.02</td>\n",
       "      <td>0.72</td>\n",
       "      <td>Montana</td>\n",
       "      <td>44.638252</td>\n",
       "      <td>-110.829041</td>\n",
       "      <td>10.377727</td>\n",
       "      <td>11.944667</td>\n",
       "      <td>13.704286</td>\n",
       "      <td>0.771818</td>\n",
       "      <td>0.623333</td>\n",
       "      <td>0.682857</td>\n",
       "      <td>NaN</td>\n",
       "    </tr>\n",
       "    <tr>\n",
       "      <th>2</th>\n",
       "      <td>2023-04-10</td>\n",
       "      <td>18.48</td>\n",
       "      <td>0.31</td>\n",
       "      <td>Montana</td>\n",
       "      <td>44.638252</td>\n",
       "      <td>-110.829041</td>\n",
       "      <td>10.980000</td>\n",
       "      <td>12.489333</td>\n",
       "      <td>14.068571</td>\n",
       "      <td>0.734545</td>\n",
       "      <td>0.634000</td>\n",
       "      <td>0.671429</td>\n",
       "      <td>NaN</td>\n",
       "    </tr>\n",
       "    <tr>\n",
       "      <th>3</th>\n",
       "      <td>2023-04-11</td>\n",
       "      <td>8.69</td>\n",
       "      <td>0.34</td>\n",
       "      <td>Montana</td>\n",
       "      <td>44.638252</td>\n",
       "      <td>-110.829041</td>\n",
       "      <td>11.043182</td>\n",
       "      <td>12.466000</td>\n",
       "      <td>12.940000</td>\n",
       "      <td>0.661364</td>\n",
       "      <td>0.604000</td>\n",
       "      <td>0.572857</td>\n",
       "      <td>NaN</td>\n",
       "    </tr>\n",
       "    <tr>\n",
       "      <th>4</th>\n",
       "      <td>2023-04-11</td>\n",
       "      <td>4.96</td>\n",
       "      <td>-0.17</td>\n",
       "      <td>Montana</td>\n",
       "      <td>44.638252</td>\n",
       "      <td>-110.829041</td>\n",
       "      <td>11.070455</td>\n",
       "      <td>12.218667</td>\n",
       "      <td>11.428571</td>\n",
       "      <td>0.599091</td>\n",
       "      <td>0.594667</td>\n",
       "      <td>0.510000</td>\n",
       "      <td>NaN</td>\n",
       "    </tr>\n",
       "  </tbody>\n",
       "</table>\n",
       "</div>"
      ],
      "text/plain": [
       "         date  depth   mag    place   latitude   longitude  depth_avg_22  \\\n",
       "0  2023-04-09  17.85  0.45  Montana  44.638252 -110.829041     10.454091   \n",
       "1  2023-04-10  14.02  0.72  Montana  44.638252 -110.829041     10.377727   \n",
       "2  2023-04-10  18.48  0.31  Montana  44.638252 -110.829041     10.980000   \n",
       "3  2023-04-11   8.69  0.34  Montana  44.638252 -110.829041     11.043182   \n",
       "4  2023-04-11   4.96 -0.17  Montana  44.638252 -110.829041     11.070455   \n",
       "\n",
       "   depth_avg_15  depth_avg_7  mag_avg_22  mag_avg_15  mag_avg_7  mag_outcome  \n",
       "0     11.691333    14.215714    0.753182    0.612667   0.650000          NaN  \n",
       "1     11.944667    13.704286    0.771818    0.623333   0.682857          NaN  \n",
       "2     12.489333    14.068571    0.734545    0.634000   0.671429          NaN  \n",
       "3     12.466000    12.940000    0.661364    0.604000   0.572857          NaN  \n",
       "4     12.218667    11.428571    0.599091    0.594667   0.510000          NaN  "
      ]
     },
     "execution_count": 45,
     "metadata": {},
     "output_type": "execute_result"
    }
   ],
   "source": [
    "# Live data to be predicted on after being trained of rolling period for next 7 days. \n",
    "#Hence NaN outcome that has to be predicted\n",
    "\n",
    "df_predict.head()"
   ]
  },
  {
   "cell_type": "markdown",
   "id": "67c07b01",
   "metadata": {},
   "source": [
    "# Training is done by considering 22, 15, 7 days window past features rolling average and outcome data is shifted to next 7 days as prediction."
   ]
  },
  {
   "cell_type": "code",
   "execution_count": 46,
   "id": "4c9b85fa",
   "metadata": {},
   "outputs": [
    {
     "data": {
      "text/plain": [
       "Index(['date', 'depth', 'mag', 'place', 'latitude', 'longitude',\n",
       "       'depth_avg_22', 'depth_avg_15', 'depth_avg_7', 'mag_avg_22',\n",
       "       'mag_avg_15', 'mag_avg_7', 'mag_outcome'],\n",
       "      dtype='object')"
      ]
     },
     "execution_count": 46,
     "metadata": {},
     "output_type": "execute_result"
    }
   ],
   "source": [
    "df_predict.columns"
   ]
  },
  {
   "cell_type": "code",
   "execution_count": 47,
   "id": "306003a6",
   "metadata": {},
   "outputs": [
    {
     "data": {
      "text/plain": [
       "Index(['date', 'depth', 'mag', 'place', 'latitude', 'longitude'], dtype='object')"
      ]
     },
     "execution_count": 47,
     "metadata": {},
     "output_type": "execute_result"
    }
   ],
   "source": [
    "df.columns"
   ]
  },
  {
   "cell_type": "code",
   "execution_count": 48,
   "id": "28bbf23f",
   "metadata": {},
   "outputs": [],
   "source": [
    "from sklearn.model_selection import train_test_split"
   ]
  },
  {
   "cell_type": "code",
   "execution_count": 49,
   "id": "0ebc8750",
   "metadata": {},
   "outputs": [],
   "source": [
    "# Selection of features that are needed for prediction and hence consider only them rest are just ignored for prediction purpose.\n",
    "\n",
    "features = [f for f in list(df_features) if f not in ['date', 'lon_box_mean',\n",
    " 'lat_box_mean', 'mag_outcome', 'mag', 'place',\n",
    " 'combo_box_mean',  'latitude',\n",
    " 'longitude']]\n",
    "\n",
    "# splitting traing and testing dataset with trainging size = 70% and test = 30%\n",
    "X_train, X_test, y_train, y_test = train_test_split(df_features[features],\n",
    "                     df_features['mag_outcome'], test_size=0.3, random_state=42)"
   ]
  },
  {
   "cell_type": "code",
   "execution_count": 51,
   "id": "ca800229",
   "metadata": {},
   "outputs": [
    {
     "data": {
      "text/plain": [
       "['depth',\n",
       " 'depth_avg_22',\n",
       " 'depth_avg_15',\n",
       " 'depth_avg_7',\n",
       " 'mag_avg_22',\n",
       " 'mag_avg_15',\n",
       " 'mag_avg_7']"
      ]
     },
     "execution_count": 51,
     "metadata": {},
     "output_type": "execute_result"
    }
   ],
   "source": [
    "features"
   ]
  },
  {
   "cell_type": "markdown",
   "id": "90747739",
   "metadata": {},
   "source": [
    "## Training phase\n",
    "* Models used are :\n",
    "    * Adaboost classifier with DecisionTree\n",
    "    * Adaboost classifier with RandomForest\n",
    "    * GridSearch CV as hyper parameter tunning\n",
    "\n",
    "* Model used for Deployment of application :\n",
    "    * Xgboost with parameters set from above models"
   ]
  },
  {
   "cell_type": "markdown",
   "id": "d908875e",
   "metadata": {},
   "source": [
    "# Adaboost Decision Tree Classifier"
   ]
  },
  {
   "cell_type": "code",
   "execution_count": 52,
   "id": "7de3519c",
   "metadata": {},
   "outputs": [],
   "source": [
    "from sklearn.ensemble import RandomForestClassifier\n",
    "from sklearn.ensemble import AdaBoostClassifier\n",
    "from sklearn.tree import DecisionTreeClassifier\n",
    "from sklearn.model_selection import GridSearchCV\n",
    "\n",
    "param_grid = {\n",
    "              \"base_estimator__max_depth\" :   [2,5,7],\n",
    "              \"n_estimators\": [200, 400, 600]\n",
    "             }\n",
    "\n",
    "# base estimator\n",
    "tree = DecisionTreeClassifier()\n",
    "\n",
    "# adaboost with the tree as base estimator\n",
    "# learning rate is arbitrarily set to 0.6,\n",
    "ABC = AdaBoostClassifier(\n",
    "    base_estimator=tree,\n",
    "    learning_rate=0.6,\n",
    "    algorithm=\"SAMME\")"
   ]
  },
  {
   "cell_type": "markdown",
   "id": "952f459f",
   "metadata": {},
   "source": [
    "Parameter tunning with GridSearch CV"
   ]
  },
  {
   "cell_type": "code",
   "execution_count": 53,
   "id": "bc0a08f3",
   "metadata": {},
   "outputs": [],
   "source": [
    "# run grid search\n",
    "grid_search_ABC = GridSearchCV(ABC,\n",
    "                               param_grid=param_grid, \n",
    "                               scoring = 'roc_auc', \n",
    "                               return_train_score=True,                         \n",
    "                               verbose = 1)"
   ]
  },
  {
   "cell_type": "code",
   "execution_count": 54,
   "id": "61fdccd9",
   "metadata": {},
   "outputs": [
    {
     "name": "stdout",
     "output_type": "stream",
     "text": [
      "Fitting 5 folds for each of 9 candidates, totalling 45 fits\n"
     ]
    },
    {
     "data": {
      "text/plain": [
       "GridSearchCV(estimator=AdaBoostClassifier(algorithm='SAMME',\n",
       "                                          base_estimator=DecisionTreeClassifier(),\n",
       "                                          learning_rate=0.6),\n",
       "             param_grid={'base_estimator__max_depth': [2, 5, 7],\n",
       "                         'n_estimators': [200, 400, 600]},\n",
       "             return_train_score=True, scoring='roc_auc', verbose=1)"
      ]
     },
     "execution_count": 54,
     "metadata": {},
     "output_type": "execute_result"
    }
   ],
   "source": [
    "grid_search_ABC.fit(X_train,y_train)"
   ]
  },
  {
   "cell_type": "code",
   "execution_count": 55,
   "id": "0a2e5f4f",
   "metadata": {},
   "outputs": [],
   "source": [
    "pred_ABC=grid_search_ABC.predict(X_test)"
   ]
  },
  {
   "cell_type": "markdown",
   "id": "f534fff2",
   "metadata": {},
   "source": [
    "# Evaluation Area Under curve & ROC\n",
    "I have chose ROC_AUC score as evaluation metric since I have to binary classifify wether earthquake happened or not with given features that has been train on past few days window rolling average window.\n",
    "\n",
    "* With adaboost decision tree classifier and hyper parameter tunning, we get area under curve (score) = 0.8867\n",
    "* higher the auc score, better is the model since it is better at distinguishing postive and negative classes.\n",
    "* Make a note here that we get from confusion matrix, False negative = 42 and Recall score =0.7789. We need this value apart from auc score that we will analyze later when we have tested with diffferent models below"
   ]
  },
  {
   "cell_type": "code",
   "execution_count": 56,
   "id": "06a65202",
   "metadata": {},
   "outputs": [
    {
     "name": "stdout",
     "output_type": "stream",
     "text": [
      "0.8195478204294079\n",
      "AUC: 0.8195\n"
     ]
    },
    {
     "data": {
      "image/png": "[encoded data removed]",
      "text/plain": [
       "<Figure size 432x288 with 1 Axes>"
      ]
     },
     "metadata": {
      "needs_background": "light"
     },
     "output_type": "display_data"
    },
    {
     "name": "stdout",
     "output_type": "stream",
     "text": [
      "Confusion Matrix: \n",
      " [[2893    7]\n",
      " [  19   34]]\n",
      "\n",
      "Recall 'TP/TP+FN' =  0.6415094339622641\n"
     ]
    }
   ],
   "source": [
    "from sklearn.metrics import roc_curve\n",
    "from sklearn.metrics import auc\n",
    "from sklearn.metrics import roc_auc_score\n",
    "from sklearn.metrics import recall_score\n",
    "from sklearn.metrics import confusion_matrix\n",
    "\n",
    "print(roc_auc_score(y_test, pred_ABC))\n",
    "\n",
    "fpr, tpr, _ = roc_curve(y_test, pred_ABC)\n",
    "roc_auc = auc(fpr, tpr)\n",
    "print('AUC:', np.round(roc_auc,4))\n",
    "\n",
    "plt.title('Receiver Operating Characteristic')\n",
    "plt.plot(fpr, tpr, 'b', label = 'AUC = %0.2f' % roc_auc)\n",
    "plt.legend(loc = 'lower right')\n",
    "plt.plot([0, 1], [0, 1],'r--')\n",
    "plt.xlim([0, 1])\n",
    "plt.ylim([0, 1])\n",
    "plt.ylabel('True Positive Rate')\n",
    "plt.xlabel('False Positive Rate')\n",
    "plt.show()\n",
    "\n",
    "\n",
    "print(\"Confusion Matrix: \\n\",confusion_matrix(y_test,pred_ABC))\n",
    "print(\"\\nRecall 'TP/TP+FN' = \", recall_score(y_test,pred_ABC))"
   ]
  },
  {
   "cell_type": "markdown",
   "id": "4ca6fc84",
   "metadata": {},
   "source": [
    "# Adaboost Random Forest Classifier"
   ]
  },
  {
   "cell_type": "code",
   "execution_count": 57,
   "id": "a5d1c578",
   "metadata": {},
   "outputs": [
    {
     "data": {
      "text/plain": [
       "GridSearchCV(cv=5,\n",
       "             estimator=RandomForestClassifier(max_features='sqrt',\n",
       "                                              n_estimators=50, n_jobs=-1,\n",
       "                                              oob_score=True),\n",
       "             param_grid={'max_features': ['auto', 'sqrt', 'log2'],\n",
       "                         'n_estimators': [200, 700]})"
      ]
     },
     "execution_count": 57,
     "metadata": {},
     "output_type": "execute_result"
    }
   ],
   "source": [
    "from sklearn.datasets import make_classification\n",
    "from sklearn.ensemble import RandomForestClassifier\n",
    "\n",
    "\n",
    "rfc = RandomForestClassifier(n_jobs=-1,max_features= 'sqrt' ,n_estimators=50, oob_score = True) \n",
    "\n",
    "param_grid = { \n",
    "    'n_estimators': [200, 700],\n",
    "    'max_features': ['auto', 'sqrt', 'log2']\n",
    "}\n",
    "# GridSearch of parameter tunning.\n",
    "CV_rfc = GridSearchCV(estimator=rfc, param_grid=param_grid, cv= 5)\n",
    "CV_rfc.fit(X_train, y_train)"
   ]
  },
  {
   "cell_type": "code",
   "execution_count": 58,
   "id": "571b3037",
   "metadata": {},
   "outputs": [],
   "source": [
    "pred=CV_rfc.predict(X_test)"
   ]
  },
  {
   "cell_type": "markdown",
   "id": "98a05403",
   "metadata": {},
   "source": [
    "# Evaluation Area Under curve & ROC\n",
    "* Below is the auc score for adaboost RandomForest classifier with 0.916 which is slightly lower than Decision tree classifier\n",
    "* Moreover when we look at confusion matrix, False Negative=38 and `Recall score = 0.8' can be observed which is slightly higher than recall score of decision tree. Thus performs better than decision tree adabooost"
   ]
  },
  {
   "cell_type": "code",
   "execution_count": 59,
   "id": "1b66c800",
   "metadata": {},
   "outputs": [
    {
     "name": "stdout",
     "output_type": "stream",
     "text": [
      "0.8394502277163305\n",
      "AUC: 0.8395\n"
     ]
    },
    {
     "data": {
      "image/png": "[encoded data removed]",
      "text/plain": [
       "<Figure size 432x288 with 1 Axes>"
      ]
     },
     "metadata": {
      "needs_background": "light"
     },
     "output_type": "display_data"
    },
    {
     "name": "stdout",
     "output_type": "stream",
     "text": [
      "Confusion Matrix: \n",
      " [[2899    1]\n",
      " [  17   36]]\n",
      "\n",
      "Recall 'TP/TP+FN' =  0.6792452830188679\n"
     ]
    }
   ],
   "source": [
    "print(roc_auc_score(y_test, pred))\n",
    "\n",
    "fpr, tpr, _ = roc_curve(y_test, pred)\n",
    "roc_auc = auc(fpr, tpr)\n",
    "print('AUC:', np.round(roc_auc,4))\n",
    "\n",
    "plt.title('Receiver Operating Characteristic')\n",
    "plt.plot(fpr, tpr, 'b', label = 'AUC = %0.2f' % roc_auc)\n",
    "plt.legend(loc = 'lower right')\n",
    "plt.plot([0, 1], [0, 1],'r--')\n",
    "plt.xlim([0, 1])\n",
    "plt.ylim([0, 1])\n",
    "plt.ylabel('True Positive Rate')\n",
    "plt.xlabel('False Positive Rate')\n",
    "plt.show()\n",
    "\n",
    "\n",
    "print(\"Confusion Matrix: \\n\",confusion_matrix(y_test,pred))\n",
    "print(\"\\nRecall 'TP/TP+FN' = \", recall_score(y_test,pred))"
   ]
  },
  {
   "cell_type": "markdown",
   "id": "445802d0",
   "metadata": {},
   "source": [
    "## XGBoost\n",
    "* We have also tested with xgboost model below with similar parameters as I got above, since grid search CV was taking lot of time for xgboost.\n",
    "* As we can see this significantly gives higher AUC score of almost 0.0.98 and also False negative = 37 which is similar Random Forest adaboost but xgboost has higher True positive and less False Positve compared to Random forest adaboost. i.e Recall score = 0.805 which is similar adaboost Random Forrest tree. But XGboost is really good at classifying positive and negative classes and also better aur_roc_score = 0.98193."
   ]
  },
  {
   "cell_type": "code",
   "execution_count": 60,
   "id": "b3135fd4",
   "metadata": {},
   "outputs": [
    {
     "name": "stdout",
     "output_type": "stream",
     "text": [
      "[15:35:12] WARNING: C:\\buildkite-agent\\builds\\buildkite-windows-cpu-autoscaling-group-i-07593ffd91cd9da33-1\\xgboost\\xgboost-ci-windows\\src\\learner.cc:767: \n",
      "Parameters: { \"silent\" } are not used.\n",
      "\n",
      "0.9823227065712427\n",
      "AUC: 0.9823\n"
     ]
    },
    {
     "name": "stderr",
     "output_type": "stream",
     "text": [
      "C:\\Users\\rupin\\anaconda3\\lib\\site-packages\\xgboost\\core.py:122: UserWarning: ntree_limit is deprecated, use `iteration_range` or model slicing instead.\n",
      "  warnings.warn(\n"
     ]
    },
    {
     "data": {
      "image/png": "[encoded data removed]",
      "text/plain": [
       "<Figure size 432x288 with 1 Axes>"
      ]
     },
     "metadata": {
      "needs_background": "light"
     },
     "output_type": "display_data"
    },
    {
     "name": "stdout",
     "output_type": "stream",
     "text": [
      "Confusion Matrix: \n",
      " [[2896    4]\n",
      " [  17   36]]\n",
      "\n",
      "Recall 'TP/TP+FN' =  0.6792452830188679\n"
     ]
    }
   ],
   "source": [
    "from sklearn.metrics import roc_curve, auc\n",
    "\n",
    "dtrain = xgb.DMatrix(X_train[features], label=y_train)\n",
    "dtest = xgb.DMatrix(X_test[features], label=y_test)\n",
    "from xgboost import XGBClassifier\n",
    "import matplotlib.pyplot as plt\n",
    "\n",
    "param = {\n",
    "        'objective': 'binary:logistic',\n",
    "        'booster': 'gbtree',\n",
    "        'eval_metric': 'auc',\n",
    "        'max_depth': 6,  # the maximum depth of each tree\n",
    "        'eta': 0.003,  # the training step for each iteration\n",
    "        'silent': 1}  # logging mode - quiet}  # the number of classes that exist in this datset\n",
    "num_round = 5000  # the number of training iterations    \n",
    "bst = xgb.train(param, dtrain, num_round)\n",
    "preds = bst.predict(dtest)\n",
    "\n",
    "print (roc_auc_score(y_test, preds))\n",
    "fpr, tpr, _ = roc_curve(y_test, preds)\n",
    "roc_auc = auc(fpr, tpr)\n",
    "print('AUC:', np.round(roc_auc,4))\n",
    "\n",
    "ypred_bst = np.array(bst.predict(dtest,ntree_limit=bst.best_iteration))\n",
    "ypred_bst  = ypred_bst > 0.5\n",
    "ypred_bst = ypred_bst.astype(int)  \n",
    "\n",
    "plt.title('Receiver Operating Characteristic')\n",
    "plt.plot(fpr, tpr, 'b', label = 'AUC = %0.2f' % roc_auc)\n",
    "plt.legend(loc = 'lower right')\n",
    "plt.plot([0, 1], [0, 1],'r--')\n",
    "plt.xlim([0, 1])\n",
    "plt.ylim([0, 1])\n",
    "plt.ylabel('True Positive Rate')\n",
    "plt.xlabel('False Positive Rate')\n",
    "plt.show()\n",
    "print(\"Confusion Matrix: \\n\",confusion_matrix(y_test,ypred_bst))\n",
    "print(\"\\nRecall 'TP/TP+FN' = \", recall_score(y_test,ypred_bst))"
   ]
  },
  {
   "cell_type": "markdown",
   "id": "f03bb2f6",
   "metadata": {},
   "source": [
    "We can see above that xgboost algorithm has higher auc score (0.9819) than adaboost decision tree and random forest, as it is evident from the ROC curve. Hence we consider xgboost for prediction of live data"
   ]
  },
  {
   "cell_type": "markdown",
   "id": "ddb5eae3",
   "metadata": {},
   "source": [
    "# Final thoughts on which model to consider on application:\n",
    "* Our main Aim is to predict wether earthquake will happen or not at a given day and place. So we definitely would not like the model with higher False Neagtive values , since its more dangerous to predict as no earthquake while in reality earthquake happend than predicting earthquake will happen given in reality it did not. Since its better safe than sorry!!, we can allow False positive more than False negative\n",
    "\n",
    "* After seeing these comparision on auc_roc score, confusion matrix, and recall score, since all the above algorithm have given similar result with slightly different recall scores, Xgboost with FN=37 but with higher auc_score 0f 0.98 performs over-all better. Hence for webapplication deployment, I have chosen Xgboost as it also faster than adaboost"
   ]
  },
  {
   "cell_type": "markdown",
   "id": "be9c73f9",
   "metadata": {},
   "source": [
    "Preparing prediction and plot for live unknown data we got in df_predict with mag_outcome = Nan"
   ]
  },
  {
   "cell_type": "code",
   "execution_count": 61,
   "id": "99e18b10",
   "metadata": {},
   "outputs": [
    {
     "data": {
      "image/png": "[encoded data removed]",
      "text/plain": [
       "<Figure size 432x288 with 1 Axes>"
      ]
     },
     "metadata": {
      "needs_background": "light"
     },
     "output_type": "display_data"
    }
   ],
   "source": [
    "dlive = xgb.DMatrix(df_predict[features]) #, label=[])\n",
    "preds = bst.predict(dlive)\n",
    "\n",
    "plt.plot(preds)\n",
    "plt.show()"
   ]
  },
  {
   "cell_type": "markdown",
   "id": "4ef70258",
   "metadata": {},
   "source": [
    "# Prediction\n",
    "* Select specific features such as data,place,long,lat and give earthquake probablity from prediction at that place and date as quake probability\n",
    "* with taking only 7 days rolling period data from predict dataframe since this outcome value is NaN and we need to predict next 7 days period."
   ]
  },
  {
   "cell_type": "code",
   "execution_count": 62,
   "id": "decfa537",
   "metadata": {},
   "outputs": [
    {
     "name": "stderr",
     "output_type": "stream",
     "text": [
      "C:\\Users\\rupin\\AppData\\Local\\Temp\\ipykernel_2284\\1247293574.py:5: SettingWithCopyWarning: \n",
      "A value is trying to be set on a copy of a slice from a DataFrame.\n",
      "Try using .loc[row_indexer,col_indexer] = value instead\n",
      "\n",
      "See the caveats in the documentation: https://pandas.pydata.org/pandas-docs/stable/user_guide/indexing.html#returning-a-view-versus-a-copy\n",
      "  live_set.loc[:,'quake'] = preds\n"
     ]
    },
    {
     "data": {
      "text/html": [
       "<div>\n",
       "<style scoped>\n",
       "    .dataframe tbody tr th:only-of-type {\n",
       "        vertical-align: middle;\n",
       "    }\n",
       "\n",
       "    .dataframe tbody tr th {\n",
       "        vertical-align: top;\n",
       "    }\n",
       "\n",
       "    .dataframe thead th {\n",
       "        text-align: right;\n",
       "    }\n",
       "</style>\n",
       "<table border=\"1\" class=\"dataframe\">\n",
       "  <thead>\n",
       "    <tr style=\"text-align: right;\">\n",
       "      <th></th>\n",
       "      <th>date</th>\n",
       "      <th>place</th>\n",
       "      <th>latitude</th>\n",
       "      <th>longitude</th>\n",
       "      <th>quake</th>\n",
       "    </tr>\n",
       "  </thead>\n",
       "  <tbody>\n",
       "    <tr>\n",
       "      <th>69</th>\n",
       "      <td>2023-04-24</td>\n",
       "      <td>CA</td>\n",
       "      <td>36.92967</td>\n",
       "      <td>-120.557775</td>\n",
       "      <td>0.000086</td>\n",
       "    </tr>\n",
       "    <tr>\n",
       "      <th>70</th>\n",
       "      <td>2023-04-24</td>\n",
       "      <td>Hawaii</td>\n",
       "      <td>19.28176</td>\n",
       "      <td>-155.400159</td>\n",
       "      <td>0.001590</td>\n",
       "    </tr>\n",
       "    <tr>\n",
       "      <th>71</th>\n",
       "      <td>2023-04-24</td>\n",
       "      <td>Indonesia</td>\n",
       "      <td>-2.94946</td>\n",
       "      <td>122.707901</td>\n",
       "      <td>0.996520</td>\n",
       "    </tr>\n",
       "    <tr>\n",
       "      <th>72</th>\n",
       "      <td>2023-04-24</td>\n",
       "      <td>Nevada</td>\n",
       "      <td>37.97952</td>\n",
       "      <td>-117.645207</td>\n",
       "      <td>0.000148</td>\n",
       "    </tr>\n",
       "    <tr>\n",
       "      <th>73</th>\n",
       "      <td>2023-04-24</td>\n",
       "      <td>Puerto Rico</td>\n",
       "      <td>18.06517</td>\n",
       "      <td>-66.839902</td>\n",
       "      <td>0.187457</td>\n",
       "    </tr>\n",
       "  </tbody>\n",
       "</table>\n",
       "</div>"
      ],
      "text/plain": [
       "         date        place  latitude   longitude     quake\n",
       "69 2023-04-24           CA  36.92967 -120.557775  0.000086\n",
       "70 2023-04-24       Hawaii  19.28176 -155.400159  0.001590\n",
       "71 2023-04-24    Indonesia  -2.94946  122.707901  0.996520\n",
       "72 2023-04-24       Nevada  37.97952 -117.645207  0.000148\n",
       "73 2023-04-24  Puerto Rico  18.06517  -66.839902  0.187457"
      ]
     },
     "execution_count": 62,
     "metadata": {},
     "output_type": "execute_result"
    }
   ],
   "source": [
    "#df_p = df[['date', 'place', 'latitude', 'longitude']]\n",
    "#df=pd.read_csv('all_month.csv')\n",
    "#df=df[['place', 'latitude', 'longitude','date']]\n",
    "live_set = df_predict[['date', 'place', 'latitude', 'longitude']]\n",
    "live_set.loc[:,'quake'] = preds\n",
    "# aggregate down dups\n",
    "live_set = live_set.groupby(['date', 'place'], as_index=False).mean()\n",
    "\n",
    "# increment date to include DAYS_OUT_TO_PREDICT\n",
    "live_set['date']= pd.to_datetime(live_set['date'],format='%Y-%m-%d') \n",
    "live_set['date'] = live_set['date'] + pd.to_timedelta(7,unit='d')\n",
    "\n",
    "live_set.tail()"
   ]
  },
  {
   "cell_type": "code",
   "execution_count": 63,
   "id": "1c665eaa",
   "metadata": {},
   "outputs": [
    {
     "name": "stdout",
     "output_type": "stream",
     "text": [
      "None\n"
     ]
    },
    {
     "data": {
      "text/plain": [
       "'2023-04-20'"
      ]
     },
     "execution_count": 63,
     "metadata": {},
     "output_type": "execute_result"
    }
   ],
   "source": [
    "import datetime as dt\n",
    "# convert date to proper format for prediction\n",
    "days = list(set([d for d in live_set['date'].astype(str) if d > dt.datetime.today().strftime('%Y-%m-%d')]))\n",
    "print(days.sort())\n",
    "\n",
    "# Predict NaN outcome value in earthquake for next day 1.\n",
    "predict_day=days[2]\n",
    "predict_day"
   ]
  },
  {
   "cell_type": "code",
   "execution_count": 64,
   "id": "0e20a110",
   "metadata": {},
   "outputs": [
    {
     "data": {
      "image/png": "[encoded data removed]",
      "text/plain": [
       "<Figure size 432x288 with 1 Axes>"
      ]
     },
     "metadata": {
      "needs_background": "light"
     },
     "output_type": "display_data"
    },
    {
     "data": {
      "image/png": "[encoded data removed]",
      "text/plain": [
       "<Figure size 432x288 with 1 Axes>"
      ]
     },
     "metadata": {
      "needs_background": "light"
     },
     "output_type": "display_data"
    },
    {
     "data": {
      "image/png": "[encoded data removed]",
      "text/plain": [
       "<Figure size 432x288 with 1 Axes>"
      ]
     },
     "metadata": {
      "needs_background": "light"
     },
     "output_type": "display_data"
    },
    {
     "data": {
      "image/png": "[encoded data removed]",
      "text/plain": [
       "<Figure size 432x288 with 1 Axes>"
      ]
     },
     "metadata": {
      "needs_background": "light"
     },
     "output_type": "display_data"
    },
    {
     "data": {
      "image/png": "[encoded data removed]",
      "text/plain": [
       "<Figure size 432x288 with 1 Axes>"
      ]
     },
     "metadata": {
      "needs_background": "light"
     },
     "output_type": "display_data"
    },
    {
     "data": {
      "image/png": "[encoded data removed]",
      "text/plain": [
       "<Figure size 432x288 with 1 Axes>"
      ]
     },
     "metadata": {
      "needs_background": "light"
     },
     "output_type": "display_data"
    },
    {
     "data": {
      "image/png": "[encoded data removed]",
      "text/plain": [
       "<Figure size 432x288 with 1 Axes>"
      ]
     },
     "metadata": {
      "needs_background": "light"
     },
     "output_type": "display_data"
    }
   ],
   "source": [
    "# place, date, lat and long with earthquake probability for next 7 days\n",
    "for i in range(0,7):\n",
    "    live_set_tmp = live_set[live_set['date'] == days[i]]\n",
    "    plt.scatter(live_set_tmp['longitude'], live_set_tmp['latitude'], s=(live_set_tmp['quake'] * 100))\n",
    "    plt.suptitle('Future Earthquakes for ' + days[i])\n",
    "    plt.xlabel('Longitude')\n",
    "    plt.ylabel('Latitude')\n",
    "    plt.grid()\n",
    "    plt.show()"
   ]
  },
  {
   "cell_type": "markdown",
   "id": "2b6e1527",
   "metadata": {},
   "source": [
    "# Final thoughts:\n",
    "* So far the model looks good with xgboost as chosen model for predictions in web app haveing higher auc score and higher recall_score as I have explained under XGBoost result section why auc and recall score are chosen.\n",
    "* Main Idea of our project will be predicting or forecasting these earthquake sites on given day all over the world."
   ]
  }
 ],
 "metadata": {
  "kernelspec": {
   "display_name": "Python 3 (ipykernel)",
   "language": "python",
   "name": "python3"
  },
  "language_info": {
   "codemirror_mode": {
    "name": "ipython",
    "version": 3
   },
   "file_extension": ".py",
   "mimetype": "text/x-python",
   "name": "python",
   "nbconvert_exporter": "python",
   "pygments_lexer": "ipython3",
   "version": "3.9.12"
  }
 },
 "nbformat": 4,
 "nbformat_minor": 5
}
